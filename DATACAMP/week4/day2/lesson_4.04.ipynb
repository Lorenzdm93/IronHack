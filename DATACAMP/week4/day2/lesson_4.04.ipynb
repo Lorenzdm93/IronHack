{
 "cells": [
  {
   "cell_type": "code",
   "execution_count": 4,
   "metadata": {},
   "outputs": [],
   "source": [
    "import pandas as pd\n",
    "import numpy as np\n",
    "import datetime\n",
    "import warnings\n",
    "warnings.filterwarnings('ignore')\n",
    "warnings.filterwarnings(\"ignore\", message=\"numpy.ufunc size changed\")\n",
    "import matplotlib.pyplot as plt\n",
    "import seaborn as sns\n",
    "%matplotlib inline"
   ]
  },
  {
   "cell_type": "code",
   "execution_count": 5,
   "metadata": {},
   "outputs": [],
   "source": [
    "plt.rcParams[\"figure.figsize\"] = [10, 15]"
   ]
  },
  {
   "cell_type": "code",
   "execution_count": 6,
   "metadata": {},
   "outputs": [],
   "source": [
    "pd.set_option('display.max_columns', None)"
   ]
  },
  {
   "cell_type": "code",
   "execution_count": 7,
   "metadata": {},
   "outputs": [],
   "source": [
    "data = pd.read_csv('unit4.csv')"
   ]
  },
  {
   "cell_type": "code",
   "execution_count": 8,
   "metadata": {},
   "outputs": [],
   "source": [
    "data_copy = data.copy()"
   ]
  },
  {
   "cell_type": "code",
   "execution_count": 9,
   "metadata": {},
   "outputs": [],
   "source": [
    "# We will use data_copy to show the students some code that we have talked about earlier , just for recap"
   ]
  },
  {
   "cell_type": "code",
   "execution_count": 10,
   "metadata": {},
   "outputs": [
    {
     "data": {
      "text/plain": [
       "H    49646\n",
       "     21051\n",
       "U    19872\n",
       "Name: HOMEOWNR, dtype: int64"
      ]
     },
     "execution_count": 10,
     "metadata": {},
     "output_type": "execute_result"
    }
   ],
   "source": [
    "data.HOMEOWNR.value_counts()"
   ]
  },
  {
   "cell_type": "code",
   "execution_count": 11,
   "metadata": {},
   "outputs": [],
   "source": [
    "def clean_gender_col(x):\n",
    "    if x in ['',' ' ,'U', 'C', 'J', 'A']:\n",
    "        return 'other'\n",
    "    else:\n",
    "        return x"
   ]
  },
  {
   "cell_type": "code",
   "execution_count": 12,
   "metadata": {
    "scrolled": true
   },
   "outputs": [
    {
     "data": {
      "text/plain": [
       "0        F\n",
       "1        M\n",
       "2        M\n",
       "3        F\n",
       "4        F\n",
       "        ..\n",
       "90564    F\n",
       "90565    M\n",
       "90566    M\n",
       "90567    M\n",
       "90568    F\n",
       "Name: GENDER, Length: 90569, dtype: object"
      ]
     },
     "execution_count": 12,
     "metadata": {},
     "output_type": "execute_result"
    }
   ],
   "source": [
    "data['GENDER'].apply(lambda x: 'other' if x in ['',' ' ,'U', 'C', 'J', 'A'] else x)"
   ]
  },
  {
   "cell_type": "code",
   "execution_count": 13,
   "metadata": {
    "scrolled": true
   },
   "outputs": [
    {
     "data": {
      "text/html": [
       "<div>\n",
       "<style scoped>\n",
       "    .dataframe tbody tr th:only-of-type {\n",
       "        vertical-align: middle;\n",
       "    }\n",
       "\n",
       "    .dataframe tbody tr th {\n",
       "        vertical-align: top;\n",
       "    }\n",
       "\n",
       "    .dataframe thead th {\n",
       "        text-align: right;\n",
       "    }\n",
       "</style>\n",
       "<table border=\"1\" class=\"dataframe\">\n",
       "  <thead>\n",
       "    <tr style=\"text-align: right;\">\n",
       "      <th></th>\n",
       "      <th>STATE</th>\n",
       "      <th>PVASTATE</th>\n",
       "      <th>DOB</th>\n",
       "      <th>MDMAUD</th>\n",
       "      <th>RECP3</th>\n",
       "      <th>GENDER</th>\n",
       "      <th>DOMAIN</th>\n",
       "      <th>INCOME</th>\n",
       "      <th>HOMEOWNR</th>\n",
       "      <th>HV1</th>\n",
       "      <th>HV2</th>\n",
       "      <th>HV3</th>\n",
       "      <th>HV4</th>\n",
       "      <th>IC1</th>\n",
       "      <th>IC2</th>\n",
       "      <th>IC3</th>\n",
       "      <th>IC4</th>\n",
       "      <th>IC5</th>\n",
       "      <th>VETERANS</th>\n",
       "      <th>NUMPROM</th>\n",
       "      <th>CARDPROM</th>\n",
       "      <th>CARDPM12</th>\n",
       "      <th>NUMPRM12</th>\n",
       "      <th>MAXADATE</th>\n",
       "      <th>RFA_2</th>\n",
       "      <th>NGIFTALL</th>\n",
       "      <th>TIMELAG</th>\n",
       "      <th>AVGGIFT</th>\n",
       "    </tr>\n",
       "  </thead>\n",
       "  <tbody>\n",
       "    <tr>\n",
       "      <th>0</th>\n",
       "      <td>IL</td>\n",
       "      <td></td>\n",
       "      <td>3712</td>\n",
       "      <td>XXXX</td>\n",
       "      <td></td>\n",
       "      <td>F</td>\n",
       "      <td>T2</td>\n",
       "      <td>NaN</td>\n",
       "      <td></td>\n",
       "      <td>479</td>\n",
       "      <td>635</td>\n",
       "      <td>3</td>\n",
       "      <td>2</td>\n",
       "      <td>307</td>\n",
       "      <td>318</td>\n",
       "      <td>349</td>\n",
       "      <td>378</td>\n",
       "      <td>12883</td>\n",
       "      <td></td>\n",
       "      <td>74</td>\n",
       "      <td>27</td>\n",
       "      <td>6</td>\n",
       "      <td>14</td>\n",
       "      <td>9702</td>\n",
       "      <td>L4E</td>\n",
       "      <td>31</td>\n",
       "      <td>4.0</td>\n",
       "      <td>7.741935</td>\n",
       "    </tr>\n",
       "    <tr>\n",
       "      <th>1</th>\n",
       "      <td>CA</td>\n",
       "      <td></td>\n",
       "      <td>5202</td>\n",
       "      <td>XXXX</td>\n",
       "      <td></td>\n",
       "      <td>M</td>\n",
       "      <td>S1</td>\n",
       "      <td>6.0</td>\n",
       "      <td>H</td>\n",
       "      <td>5468</td>\n",
       "      <td>5218</td>\n",
       "      <td>12</td>\n",
       "      <td>10</td>\n",
       "      <td>1088</td>\n",
       "      <td>1096</td>\n",
       "      <td>1026</td>\n",
       "      <td>1037</td>\n",
       "      <td>36175</td>\n",
       "      <td></td>\n",
       "      <td>32</td>\n",
       "      <td>12</td>\n",
       "      <td>6</td>\n",
       "      <td>13</td>\n",
       "      <td>9702</td>\n",
       "      <td>L2G</td>\n",
       "      <td>3</td>\n",
       "      <td>18.0</td>\n",
       "      <td>15.666667</td>\n",
       "    </tr>\n",
       "    <tr>\n",
       "      <th>2</th>\n",
       "      <td>NC</td>\n",
       "      <td></td>\n",
       "      <td>0</td>\n",
       "      <td>XXXX</td>\n",
       "      <td></td>\n",
       "      <td>M</td>\n",
       "      <td>R2</td>\n",
       "      <td>3.0</td>\n",
       "      <td>U</td>\n",
       "      <td>497</td>\n",
       "      <td>546</td>\n",
       "      <td>2</td>\n",
       "      <td>1</td>\n",
       "      <td>251</td>\n",
       "      <td>292</td>\n",
       "      <td>292</td>\n",
       "      <td>340</td>\n",
       "      <td>11576</td>\n",
       "      <td></td>\n",
       "      <td>63</td>\n",
       "      <td>26</td>\n",
       "      <td>6</td>\n",
       "      <td>14</td>\n",
       "      <td>9702</td>\n",
       "      <td>L4E</td>\n",
       "      <td>27</td>\n",
       "      <td>12.0</td>\n",
       "      <td>7.481481</td>\n",
       "    </tr>\n",
       "    <tr>\n",
       "      <th>3</th>\n",
       "      <td>CA</td>\n",
       "      <td></td>\n",
       "      <td>2801</td>\n",
       "      <td>XXXX</td>\n",
       "      <td></td>\n",
       "      <td>F</td>\n",
       "      <td>R2</td>\n",
       "      <td>1.0</td>\n",
       "      <td>U</td>\n",
       "      <td>1000</td>\n",
       "      <td>1263</td>\n",
       "      <td>2</td>\n",
       "      <td>1</td>\n",
       "      <td>386</td>\n",
       "      <td>388</td>\n",
       "      <td>396</td>\n",
       "      <td>423</td>\n",
       "      <td>15130</td>\n",
       "      <td></td>\n",
       "      <td>66</td>\n",
       "      <td>27</td>\n",
       "      <td>6</td>\n",
       "      <td>14</td>\n",
       "      <td>9702</td>\n",
       "      <td>L4E</td>\n",
       "      <td>16</td>\n",
       "      <td>9.0</td>\n",
       "      <td>6.812500</td>\n",
       "    </tr>\n",
       "    <tr>\n",
       "      <th>4</th>\n",
       "      <td>FL</td>\n",
       "      <td></td>\n",
       "      <td>2001</td>\n",
       "      <td>XXXX</td>\n",
       "      <td>X</td>\n",
       "      <td>F</td>\n",
       "      <td>S2</td>\n",
       "      <td>3.0</td>\n",
       "      <td>H</td>\n",
       "      <td>576</td>\n",
       "      <td>594</td>\n",
       "      <td>4</td>\n",
       "      <td>3</td>\n",
       "      <td>240</td>\n",
       "      <td>250</td>\n",
       "      <td>293</td>\n",
       "      <td>321</td>\n",
       "      <td>9836</td>\n",
       "      <td></td>\n",
       "      <td>113</td>\n",
       "      <td>43</td>\n",
       "      <td>10</td>\n",
       "      <td>25</td>\n",
       "      <td>9702</td>\n",
       "      <td>L2F</td>\n",
       "      <td>37</td>\n",
       "      <td>14.0</td>\n",
       "      <td>6.864865</td>\n",
       "    </tr>\n",
       "    <tr>\n",
       "      <th>...</th>\n",
       "      <td>...</td>\n",
       "      <td>...</td>\n",
       "      <td>...</td>\n",
       "      <td>...</td>\n",
       "      <td>...</td>\n",
       "      <td>...</td>\n",
       "      <td>...</td>\n",
       "      <td>...</td>\n",
       "      <td>...</td>\n",
       "      <td>...</td>\n",
       "      <td>...</td>\n",
       "      <td>...</td>\n",
       "      <td>...</td>\n",
       "      <td>...</td>\n",
       "      <td>...</td>\n",
       "      <td>...</td>\n",
       "      <td>...</td>\n",
       "      <td>...</td>\n",
       "      <td>...</td>\n",
       "      <td>...</td>\n",
       "      <td>...</td>\n",
       "      <td>...</td>\n",
       "      <td>...</td>\n",
       "      <td>...</td>\n",
       "      <td>...</td>\n",
       "      <td>...</td>\n",
       "      <td>...</td>\n",
       "      <td>...</td>\n",
       "    </tr>\n",
       "    <tr>\n",
       "      <th>90564</th>\n",
       "      <td>FL</td>\n",
       "      <td></td>\n",
       "      <td>4803</td>\n",
       "      <td>XXXX</td>\n",
       "      <td></td>\n",
       "      <td>F</td>\n",
       "      <td>S2</td>\n",
       "      <td>6.0</td>\n",
       "      <td>H</td>\n",
       "      <td>733</td>\n",
       "      <td>875</td>\n",
       "      <td>4</td>\n",
       "      <td>3</td>\n",
       "      <td>285</td>\n",
       "      <td>288</td>\n",
       "      <td>333</td>\n",
       "      <td>334</td>\n",
       "      <td>11390</td>\n",
       "      <td></td>\n",
       "      <td>59</td>\n",
       "      <td>23</td>\n",
       "      <td>5</td>\n",
       "      <td>12</td>\n",
       "      <td>9702</td>\n",
       "      <td>L4D</td>\n",
       "      <td>24</td>\n",
       "      <td>3.0</td>\n",
       "      <td>3.375000</td>\n",
       "    </tr>\n",
       "    <tr>\n",
       "      <th>90565</th>\n",
       "      <td>AK</td>\n",
       "      <td></td>\n",
       "      <td>0</td>\n",
       "      <td>XXXX</td>\n",
       "      <td></td>\n",
       "      <td>M</td>\n",
       "      <td>C2</td>\n",
       "      <td>NaN</td>\n",
       "      <td></td>\n",
       "      <td>988</td>\n",
       "      <td>1025</td>\n",
       "      <td>6</td>\n",
       "      <td>6</td>\n",
       "      <td>433</td>\n",
       "      <td>481</td>\n",
       "      <td>499</td>\n",
       "      <td>535</td>\n",
       "      <td>18807</td>\n",
       "      <td></td>\n",
       "      <td>14</td>\n",
       "      <td>6</td>\n",
       "      <td>5</td>\n",
       "      <td>12</td>\n",
       "      <td>9702</td>\n",
       "      <td>L1G</td>\n",
       "      <td>1</td>\n",
       "      <td>NaN</td>\n",
       "      <td>25.000000</td>\n",
       "    </tr>\n",
       "    <tr>\n",
       "      <th>90566</th>\n",
       "      <td>TX</td>\n",
       "      <td></td>\n",
       "      <td>5001</td>\n",
       "      <td>XXXX</td>\n",
       "      <td></td>\n",
       "      <td>M</td>\n",
       "      <td>C1</td>\n",
       "      <td>7.0</td>\n",
       "      <td>H</td>\n",
       "      <td>1679</td>\n",
       "      <td>1723</td>\n",
       "      <td>3</td>\n",
       "      <td>3</td>\n",
       "      <td>806</td>\n",
       "      <td>836</td>\n",
       "      <td>802</td>\n",
       "      <td>849</td>\n",
       "      <td>26538</td>\n",
       "      <td></td>\n",
       "      <td>10</td>\n",
       "      <td>4</td>\n",
       "      <td>3</td>\n",
       "      <td>8</td>\n",
       "      <td>9702</td>\n",
       "      <td>L1F</td>\n",
       "      <td>1</td>\n",
       "      <td>NaN</td>\n",
       "      <td>20.000000</td>\n",
       "    </tr>\n",
       "    <tr>\n",
       "      <th>90567</th>\n",
       "      <td>MI</td>\n",
       "      <td></td>\n",
       "      <td>3801</td>\n",
       "      <td>XXXX</td>\n",
       "      <td>X</td>\n",
       "      <td>M</td>\n",
       "      <td>C3</td>\n",
       "      <td>NaN</td>\n",
       "      <td></td>\n",
       "      <td>376</td>\n",
       "      <td>377</td>\n",
       "      <td>4</td>\n",
       "      <td>3</td>\n",
       "      <td>263</td>\n",
       "      <td>264</td>\n",
       "      <td>319</td>\n",
       "      <td>345</td>\n",
       "      <td>12178</td>\n",
       "      <td></td>\n",
       "      <td>33</td>\n",
       "      <td>14</td>\n",
       "      <td>7</td>\n",
       "      <td>17</td>\n",
       "      <td>9702</td>\n",
       "      <td>L3E</td>\n",
       "      <td>7</td>\n",
       "      <td>3.0</td>\n",
       "      <td>8.285714</td>\n",
       "    </tr>\n",
       "    <tr>\n",
       "      <th>90568</th>\n",
       "      <td>NC</td>\n",
       "      <td></td>\n",
       "      <td>1801</td>\n",
       "      <td>C1CM</td>\n",
       "      <td></td>\n",
       "      <td>F</td>\n",
       "      <td>C1</td>\n",
       "      <td>5.0</td>\n",
       "      <td>U</td>\n",
       "      <td>938</td>\n",
       "      <td>1049</td>\n",
       "      <td>5</td>\n",
       "      <td>5</td>\n",
       "      <td>451</td>\n",
       "      <td>474</td>\n",
       "      <td>499</td>\n",
       "      <td>519</td>\n",
       "      <td>16699</td>\n",
       "      <td></td>\n",
       "      <td>139</td>\n",
       "      <td>32</td>\n",
       "      <td>6</td>\n",
       "      <td>35</td>\n",
       "      <td>9702</td>\n",
       "      <td>L1G</td>\n",
       "      <td>39</td>\n",
       "      <td>6.0</td>\n",
       "      <td>96.794872</td>\n",
       "    </tr>\n",
       "  </tbody>\n",
       "</table>\n",
       "<p>90569 rows × 28 columns</p>\n",
       "</div>"
      ],
      "text/plain": [
       "      STATE PVASTATE   DOB MDMAUD RECP3 GENDER DOMAIN  INCOME HOMEOWNR   HV1  \\\n",
       "0        IL           3712   XXXX            F     T2     NaN            479   \n",
       "1        CA           5202   XXXX            M     S1     6.0        H  5468   \n",
       "2        NC              0   XXXX            M     R2     3.0        U   497   \n",
       "3        CA           2801   XXXX            F     R2     1.0        U  1000   \n",
       "4        FL           2001   XXXX     X      F     S2     3.0        H   576   \n",
       "...     ...      ...   ...    ...   ...    ...    ...     ...      ...   ...   \n",
       "90564    FL           4803   XXXX            F     S2     6.0        H   733   \n",
       "90565    AK              0   XXXX            M     C2     NaN            988   \n",
       "90566    TX           5001   XXXX            M     C1     7.0        H  1679   \n",
       "90567    MI           3801   XXXX     X      M     C3     NaN            376   \n",
       "90568    NC           1801   C1CM            F     C1     5.0        U   938   \n",
       "\n",
       "        HV2  HV3  HV4   IC1   IC2   IC3   IC4    IC5 VETERANS  NUMPROM  \\\n",
       "0       635    3    2   307   318   349   378  12883                74   \n",
       "1      5218   12   10  1088  1096  1026  1037  36175                32   \n",
       "2       546    2    1   251   292   292   340  11576                63   \n",
       "3      1263    2    1   386   388   396   423  15130                66   \n",
       "4       594    4    3   240   250   293   321   9836               113   \n",
       "...     ...  ...  ...   ...   ...   ...   ...    ...      ...      ...   \n",
       "90564   875    4    3   285   288   333   334  11390                59   \n",
       "90565  1025    6    6   433   481   499   535  18807                14   \n",
       "90566  1723    3    3   806   836   802   849  26538                10   \n",
       "90567   377    4    3   263   264   319   345  12178                33   \n",
       "90568  1049    5    5   451   474   499   519  16699               139   \n",
       "\n",
       "       CARDPROM  CARDPM12  NUMPRM12  MAXADATE RFA_2  NGIFTALL  TIMELAG  \\\n",
       "0            27         6        14      9702   L4E        31      4.0   \n",
       "1            12         6        13      9702   L2G         3     18.0   \n",
       "2            26         6        14      9702   L4E        27     12.0   \n",
       "3            27         6        14      9702   L4E        16      9.0   \n",
       "4            43        10        25      9702   L2F        37     14.0   \n",
       "...         ...       ...       ...       ...   ...       ...      ...   \n",
       "90564        23         5        12      9702   L4D        24      3.0   \n",
       "90565         6         5        12      9702   L1G         1      NaN   \n",
       "90566         4         3         8      9702   L1F         1      NaN   \n",
       "90567        14         7        17      9702   L3E         7      3.0   \n",
       "90568        32         6        35      9702   L1G        39      6.0   \n",
       "\n",
       "         AVGGIFT  \n",
       "0       7.741935  \n",
       "1      15.666667  \n",
       "2       7.481481  \n",
       "3       6.812500  \n",
       "4       6.864865  \n",
       "...          ...  \n",
       "90564   3.375000  \n",
       "90565  25.000000  \n",
       "90566  20.000000  \n",
       "90567   8.285714  \n",
       "90568  96.794872  \n",
       "\n",
       "[90569 rows x 28 columns]"
      ]
     },
     "execution_count": 13,
     "metadata": {},
     "output_type": "execute_result"
    }
   ],
   "source": [
    "data.drop(data[data.GENDER.isnull()].index)"
   ]
  },
  {
   "cell_type": "code",
   "execution_count": 14,
   "metadata": {
    "scrolled": true
   },
   "outputs": [
    {
     "data": {
      "text/html": [
       "<div>\n",
       "<style scoped>\n",
       "    .dataframe tbody tr th:only-of-type {\n",
       "        vertical-align: middle;\n",
       "    }\n",
       "\n",
       "    .dataframe tbody tr th {\n",
       "        vertical-align: top;\n",
       "    }\n",
       "\n",
       "    .dataframe thead th {\n",
       "        text-align: right;\n",
       "    }\n",
       "</style>\n",
       "<table border=\"1\" class=\"dataframe\">\n",
       "  <thead>\n",
       "    <tr style=\"text-align: right;\">\n",
       "      <th></th>\n",
       "      <th>STATE</th>\n",
       "      <th>PVASTATE</th>\n",
       "      <th>DOB</th>\n",
       "      <th>MDMAUD</th>\n",
       "      <th>RECP3</th>\n",
       "      <th>GENDER</th>\n",
       "      <th>DOMAIN</th>\n",
       "      <th>INCOME</th>\n",
       "      <th>HOMEOWNR</th>\n",
       "      <th>HV1</th>\n",
       "      <th>HV2</th>\n",
       "      <th>HV3</th>\n",
       "      <th>HV4</th>\n",
       "      <th>IC1</th>\n",
       "      <th>IC2</th>\n",
       "      <th>IC3</th>\n",
       "      <th>IC4</th>\n",
       "      <th>IC5</th>\n",
       "      <th>VETERANS</th>\n",
       "      <th>NUMPROM</th>\n",
       "      <th>CARDPROM</th>\n",
       "      <th>CARDPM12</th>\n",
       "      <th>NUMPRM12</th>\n",
       "      <th>MAXADATE</th>\n",
       "      <th>RFA_2</th>\n",
       "      <th>NGIFTALL</th>\n",
       "      <th>TIMELAG</th>\n",
       "      <th>AVGGIFT</th>\n",
       "    </tr>\n",
       "  </thead>\n",
       "  <tbody>\n",
       "    <tr>\n",
       "      <th>0</th>\n",
       "      <td>IL</td>\n",
       "      <td></td>\n",
       "      <td>3712</td>\n",
       "      <td>XXXX</td>\n",
       "      <td></td>\n",
       "      <td>F</td>\n",
       "      <td>T2</td>\n",
       "      <td>NaN</td>\n",
       "      <td></td>\n",
       "      <td>479</td>\n",
       "      <td>635</td>\n",
       "      <td>3</td>\n",
       "      <td>2</td>\n",
       "      <td>307</td>\n",
       "      <td>318</td>\n",
       "      <td>349</td>\n",
       "      <td>378</td>\n",
       "      <td>12883</td>\n",
       "      <td></td>\n",
       "      <td>74</td>\n",
       "      <td>27</td>\n",
       "      <td>6</td>\n",
       "      <td>14</td>\n",
       "      <td>9702</td>\n",
       "      <td>L4E</td>\n",
       "      <td>31</td>\n",
       "      <td>4.0</td>\n",
       "      <td>7.741935</td>\n",
       "    </tr>\n",
       "    <tr>\n",
       "      <th>1</th>\n",
       "      <td>CA</td>\n",
       "      <td></td>\n",
       "      <td>5202</td>\n",
       "      <td>XXXX</td>\n",
       "      <td></td>\n",
       "      <td>M</td>\n",
       "      <td>S1</td>\n",
       "      <td>6.0</td>\n",
       "      <td>H</td>\n",
       "      <td>5468</td>\n",
       "      <td>5218</td>\n",
       "      <td>12</td>\n",
       "      <td>10</td>\n",
       "      <td>1088</td>\n",
       "      <td>1096</td>\n",
       "      <td>1026</td>\n",
       "      <td>1037</td>\n",
       "      <td>36175</td>\n",
       "      <td></td>\n",
       "      <td>32</td>\n",
       "      <td>12</td>\n",
       "      <td>6</td>\n",
       "      <td>13</td>\n",
       "      <td>9702</td>\n",
       "      <td>L2G</td>\n",
       "      <td>3</td>\n",
       "      <td>18.0</td>\n",
       "      <td>15.666667</td>\n",
       "    </tr>\n",
       "    <tr>\n",
       "      <th>2</th>\n",
       "      <td>NC</td>\n",
       "      <td></td>\n",
       "      <td>0</td>\n",
       "      <td>XXXX</td>\n",
       "      <td></td>\n",
       "      <td>M</td>\n",
       "      <td>R2</td>\n",
       "      <td>3.0</td>\n",
       "      <td>U</td>\n",
       "      <td>497</td>\n",
       "      <td>546</td>\n",
       "      <td>2</td>\n",
       "      <td>1</td>\n",
       "      <td>251</td>\n",
       "      <td>292</td>\n",
       "      <td>292</td>\n",
       "      <td>340</td>\n",
       "      <td>11576</td>\n",
       "      <td></td>\n",
       "      <td>63</td>\n",
       "      <td>26</td>\n",
       "      <td>6</td>\n",
       "      <td>14</td>\n",
       "      <td>9702</td>\n",
       "      <td>L4E</td>\n",
       "      <td>27</td>\n",
       "      <td>12.0</td>\n",
       "      <td>7.481481</td>\n",
       "    </tr>\n",
       "    <tr>\n",
       "      <th>3</th>\n",
       "      <td>CA</td>\n",
       "      <td></td>\n",
       "      <td>2801</td>\n",
       "      <td>XXXX</td>\n",
       "      <td></td>\n",
       "      <td>F</td>\n",
       "      <td>R2</td>\n",
       "      <td>1.0</td>\n",
       "      <td>U</td>\n",
       "      <td>1000</td>\n",
       "      <td>1263</td>\n",
       "      <td>2</td>\n",
       "      <td>1</td>\n",
       "      <td>386</td>\n",
       "      <td>388</td>\n",
       "      <td>396</td>\n",
       "      <td>423</td>\n",
       "      <td>15130</td>\n",
       "      <td></td>\n",
       "      <td>66</td>\n",
       "      <td>27</td>\n",
       "      <td>6</td>\n",
       "      <td>14</td>\n",
       "      <td>9702</td>\n",
       "      <td>L4E</td>\n",
       "      <td>16</td>\n",
       "      <td>9.0</td>\n",
       "      <td>6.812500</td>\n",
       "    </tr>\n",
       "    <tr>\n",
       "      <th>4</th>\n",
       "      <td>FL</td>\n",
       "      <td></td>\n",
       "      <td>2001</td>\n",
       "      <td>XXXX</td>\n",
       "      <td>X</td>\n",
       "      <td>F</td>\n",
       "      <td>S2</td>\n",
       "      <td>3.0</td>\n",
       "      <td>H</td>\n",
       "      <td>576</td>\n",
       "      <td>594</td>\n",
       "      <td>4</td>\n",
       "      <td>3</td>\n",
       "      <td>240</td>\n",
       "      <td>250</td>\n",
       "      <td>293</td>\n",
       "      <td>321</td>\n",
       "      <td>9836</td>\n",
       "      <td></td>\n",
       "      <td>113</td>\n",
       "      <td>43</td>\n",
       "      <td>10</td>\n",
       "      <td>25</td>\n",
       "      <td>9702</td>\n",
       "      <td>L2F</td>\n",
       "      <td>37</td>\n",
       "      <td>14.0</td>\n",
       "      <td>6.864865</td>\n",
       "    </tr>\n",
       "    <tr>\n",
       "      <th>5</th>\n",
       "      <td>AL</td>\n",
       "      <td></td>\n",
       "      <td>0</td>\n",
       "      <td>XXXX</td>\n",
       "      <td></td>\n",
       "      <td></td>\n",
       "      <td>T2</td>\n",
       "      <td>NaN</td>\n",
       "      <td></td>\n",
       "      <td>807</td>\n",
       "      <td>899</td>\n",
       "      <td>3</td>\n",
       "      <td>3</td>\n",
       "      <td>364</td>\n",
       "      <td>410</td>\n",
       "      <td>406</td>\n",
       "      <td>454</td>\n",
       "      <td>15619</td>\n",
       "      <td></td>\n",
       "      <td>35</td>\n",
       "      <td>15</td>\n",
       "      <td>6</td>\n",
       "      <td>12</td>\n",
       "      <td>9702</td>\n",
       "      <td>L1F</td>\n",
       "      <td>4</td>\n",
       "      <td>6.0</td>\n",
       "      <td>12.750000</td>\n",
       "    </tr>\n",
       "    <tr>\n",
       "      <th>6</th>\n",
       "      <td>IN</td>\n",
       "      <td></td>\n",
       "      <td>6001</td>\n",
       "      <td>XXXX</td>\n",
       "      <td></td>\n",
       "      <td>F</td>\n",
       "      <td>T2</td>\n",
       "      <td>4.0</td>\n",
       "      <td>H</td>\n",
       "      <td>484</td>\n",
       "      <td>519</td>\n",
       "      <td>3</td>\n",
       "      <td>3</td>\n",
       "      <td>251</td>\n",
       "      <td>284</td>\n",
       "      <td>278</td>\n",
       "      <td>311</td>\n",
       "      <td>10717</td>\n",
       "      <td></td>\n",
       "      <td>63</td>\n",
       "      <td>26</td>\n",
       "      <td>4</td>\n",
       "      <td>9</td>\n",
       "      <td>9702</td>\n",
       "      <td>L1E</td>\n",
       "      <td>14</td>\n",
       "      <td>4.0</td>\n",
       "      <td>7.642857</td>\n",
       "    </tr>\n",
       "    <tr>\n",
       "      <th>7</th>\n",
       "      <td>LA</td>\n",
       "      <td></td>\n",
       "      <td>0</td>\n",
       "      <td>XXXX</td>\n",
       "      <td></td>\n",
       "      <td>F</td>\n",
       "      <td>T2</td>\n",
       "      <td>2.0</td>\n",
       "      <td>U</td>\n",
       "      <td>702</td>\n",
       "      <td>787</td>\n",
       "      <td>3</td>\n",
       "      <td>3</td>\n",
       "      <td>367</td>\n",
       "      <td>457</td>\n",
       "      <td>431</td>\n",
       "      <td>466</td>\n",
       "      <td>14248</td>\n",
       "      <td></td>\n",
       "      <td>35</td>\n",
       "      <td>14</td>\n",
       "      <td>6</td>\n",
       "      <td>12</td>\n",
       "      <td>9702</td>\n",
       "      <td>L3E</td>\n",
       "      <td>5</td>\n",
       "      <td>6.0</td>\n",
       "      <td>6.200000</td>\n",
       "    </tr>\n",
       "    <tr>\n",
       "      <th>8</th>\n",
       "      <td>IA</td>\n",
       "      <td></td>\n",
       "      <td>0</td>\n",
       "      <td>XXXX</td>\n",
       "      <td></td>\n",
       "      <td>M</td>\n",
       "      <td>R2</td>\n",
       "      <td>3.0</td>\n",
       "      <td>U</td>\n",
       "      <td>234</td>\n",
       "      <td>288</td>\n",
       "      <td>2</td>\n",
       "      <td>1</td>\n",
       "      <td>226</td>\n",
       "      <td>266</td>\n",
       "      <td>280</td>\n",
       "      <td>323</td>\n",
       "      <td>11127</td>\n",
       "      <td></td>\n",
       "      <td>70</td>\n",
       "      <td>29</td>\n",
       "      <td>6</td>\n",
       "      <td>12</td>\n",
       "      <td>9702</td>\n",
       "      <td>L1F</td>\n",
       "      <td>11</td>\n",
       "      <td>8.0</td>\n",
       "      <td>18.090909</td>\n",
       "    </tr>\n",
       "    <tr>\n",
       "      <th>9</th>\n",
       "      <td>TN</td>\n",
       "      <td></td>\n",
       "      <td>3211</td>\n",
       "      <td>XXXX</td>\n",
       "      <td></td>\n",
       "      <td>M</td>\n",
       "      <td>T1</td>\n",
       "      <td>NaN</td>\n",
       "      <td></td>\n",
       "      <td>565</td>\n",
       "      <td>581</td>\n",
       "      <td>3</td>\n",
       "      <td>3</td>\n",
       "      <td>291</td>\n",
       "      <td>329</td>\n",
       "      <td>311</td>\n",
       "      <td>332</td>\n",
       "      <td>10517</td>\n",
       "      <td></td>\n",
       "      <td>28</td>\n",
       "      <td>11</td>\n",
       "      <td>4</td>\n",
       "      <td>9</td>\n",
       "      <td>9702</td>\n",
       "      <td>L1F</td>\n",
       "      <td>3</td>\n",
       "      <td>7.0</td>\n",
       "      <td>9.333333</td>\n",
       "    </tr>\n",
       "    <tr>\n",
       "      <th>10</th>\n",
       "      <td>KS</td>\n",
       "      <td></td>\n",
       "      <td>0</td>\n",
       "      <td>XXXX</td>\n",
       "      <td></td>\n",
       "      <td>F</td>\n",
       "      <td>R3</td>\n",
       "      <td>2.0</td>\n",
       "      <td>U</td>\n",
       "      <td>231</td>\n",
       "      <td>273</td>\n",
       "      <td>2</td>\n",
       "      <td>1</td>\n",
       "      <td>173</td>\n",
       "      <td>222</td>\n",
       "      <td>220</td>\n",
       "      <td>273</td>\n",
       "      <td>9045</td>\n",
       "      <td></td>\n",
       "      <td>14</td>\n",
       "      <td>6</td>\n",
       "      <td>5</td>\n",
       "      <td>12</td>\n",
       "      <td>9702</td>\n",
       "      <td>L1F</td>\n",
       "      <td>1</td>\n",
       "      <td>NaN</td>\n",
       "      <td>20.000000</td>\n",
       "    </tr>\n",
       "    <tr>\n",
       "      <th>11</th>\n",
       "      <td>IN</td>\n",
       "      <td></td>\n",
       "      <td>2301</td>\n",
       "      <td>XXXX</td>\n",
       "      <td></td>\n",
       "      <td>M</td>\n",
       "      <td>S2</td>\n",
       "      <td>1.0</td>\n",
       "      <td>U</td>\n",
       "      <td>583</td>\n",
       "      <td>670</td>\n",
       "      <td>4</td>\n",
       "      <td>4</td>\n",
       "      <td>246</td>\n",
       "      <td>346</td>\n",
       "      <td>269</td>\n",
       "      <td>411</td>\n",
       "      <td>16929</td>\n",
       "      <td></td>\n",
       "      <td>17</td>\n",
       "      <td>8</td>\n",
       "      <td>6</td>\n",
       "      <td>12</td>\n",
       "      <td>9702</td>\n",
       "      <td>L2F</td>\n",
       "      <td>2</td>\n",
       "      <td>3.0</td>\n",
       "      <td>12.500000</td>\n",
       "    </tr>\n",
       "    <tr>\n",
       "      <th>12</th>\n",
       "      <td>MN</td>\n",
       "      <td></td>\n",
       "      <td>2603</td>\n",
       "      <td>XXXX</td>\n",
       "      <td></td>\n",
       "      <td>F</td>\n",
       "      <td>R3</td>\n",
       "      <td>4.0</td>\n",
       "      <td>H</td>\n",
       "      <td>388</td>\n",
       "      <td>428</td>\n",
       "      <td>2</td>\n",
       "      <td>1</td>\n",
       "      <td>225</td>\n",
       "      <td>267</td>\n",
       "      <td>267</td>\n",
       "      <td>305</td>\n",
       "      <td>9587</td>\n",
       "      <td></td>\n",
       "      <td>55</td>\n",
       "      <td>21</td>\n",
       "      <td>6</td>\n",
       "      <td>12</td>\n",
       "      <td>9702</td>\n",
       "      <td>L4D</td>\n",
       "      <td>9</td>\n",
       "      <td>5.0</td>\n",
       "      <td>5.333333</td>\n",
       "    </tr>\n",
       "    <tr>\n",
       "      <th>13</th>\n",
       "      <td>LA</td>\n",
       "      <td></td>\n",
       "      <td>0</td>\n",
       "      <td>XXXX</td>\n",
       "      <td></td>\n",
       "      <td>M</td>\n",
       "      <td>T2</td>\n",
       "      <td>NaN</td>\n",
       "      <td></td>\n",
       "      <td>677</td>\n",
       "      <td>732</td>\n",
       "      <td>3</td>\n",
       "      <td>2</td>\n",
       "      <td>298</td>\n",
       "      <td>335</td>\n",
       "      <td>355</td>\n",
       "      <td>392</td>\n",
       "      <td>11556</td>\n",
       "      <td></td>\n",
       "      <td>72</td>\n",
       "      <td>23</td>\n",
       "      <td>7</td>\n",
       "      <td>29</td>\n",
       "      <td>9702</td>\n",
       "      <td>L1G</td>\n",
       "      <td>12</td>\n",
       "      <td>1.0</td>\n",
       "      <td>20.416667</td>\n",
       "    </tr>\n",
       "    <tr>\n",
       "      <th>14</th>\n",
       "      <td>UT</td>\n",
       "      <td></td>\n",
       "      <td>2709</td>\n",
       "      <td>XXXX</td>\n",
       "      <td></td>\n",
       "      <td>M</td>\n",
       "      <td>T1</td>\n",
       "      <td>4.0</td>\n",
       "      <td>H</td>\n",
       "      <td>766</td>\n",
       "      <td>800</td>\n",
       "      <td>3</td>\n",
       "      <td>3</td>\n",
       "      <td>356</td>\n",
       "      <td>373</td>\n",
       "      <td>342</td>\n",
       "      <td>370</td>\n",
       "      <td>8424</td>\n",
       "      <td></td>\n",
       "      <td>41</td>\n",
       "      <td>18</td>\n",
       "      <td>6</td>\n",
       "      <td>11</td>\n",
       "      <td>9702</td>\n",
       "      <td>L1F</td>\n",
       "      <td>7</td>\n",
       "      <td>4.0</td>\n",
       "      <td>10.571429</td>\n",
       "    </tr>\n",
       "    <tr>\n",
       "      <th>15</th>\n",
       "      <td>CA</td>\n",
       "      <td></td>\n",
       "      <td>0</td>\n",
       "      <td>XXXX</td>\n",
       "      <td></td>\n",
       "      <td>M</td>\n",
       "      <td>U1</td>\n",
       "      <td>1.0</td>\n",
       "      <td>H</td>\n",
       "      <td>5251</td>\n",
       "      <td>5024</td>\n",
       "      <td>9</td>\n",
       "      <td>9</td>\n",
       "      <td>681</td>\n",
       "      <td>806</td>\n",
       "      <td>740</td>\n",
       "      <td>865</td>\n",
       "      <td>36257</td>\n",
       "      <td></td>\n",
       "      <td>27</td>\n",
       "      <td>9</td>\n",
       "      <td>4</td>\n",
       "      <td>10</td>\n",
       "      <td>9702</td>\n",
       "      <td>L1F</td>\n",
       "      <td>2</td>\n",
       "      <td>23.0</td>\n",
       "      <td>12.500000</td>\n",
       "    </tr>\n",
       "    <tr>\n",
       "      <th>16</th>\n",
       "      <td>MI</td>\n",
       "      <td></td>\n",
       "      <td>5401</td>\n",
       "      <td>XXXX</td>\n",
       "      <td></td>\n",
       "      <td>M</td>\n",
       "      <td>S2</td>\n",
       "      <td>1.0</td>\n",
       "      <td>U</td>\n",
       "      <td>623</td>\n",
       "      <td>624</td>\n",
       "      <td>4</td>\n",
       "      <td>4</td>\n",
       "      <td>362</td>\n",
       "      <td>385</td>\n",
       "      <td>368</td>\n",
       "      <td>406</td>\n",
       "      <td>16182</td>\n",
       "      <td></td>\n",
       "      <td>30</td>\n",
       "      <td>12</td>\n",
       "      <td>6</td>\n",
       "      <td>13</td>\n",
       "      <td>9702</td>\n",
       "      <td>L2F</td>\n",
       "      <td>3</td>\n",
       "      <td>17.0</td>\n",
       "      <td>12.333333</td>\n",
       "    </tr>\n",
       "    <tr>\n",
       "      <th>17</th>\n",
       "      <td>IL</td>\n",
       "      <td></td>\n",
       "      <td>5201</td>\n",
       "      <td>XXXX</td>\n",
       "      <td></td>\n",
       "      <td>F</td>\n",
       "      <td>R2</td>\n",
       "      <td>7.0</td>\n",
       "      <td>U</td>\n",
       "      <td>342</td>\n",
       "      <td>377</td>\n",
       "      <td>2</td>\n",
       "      <td>1</td>\n",
       "      <td>245</td>\n",
       "      <td>283</td>\n",
       "      <td>280</td>\n",
       "      <td>313</td>\n",
       "      <td>10260</td>\n",
       "      <td></td>\n",
       "      <td>48</td>\n",
       "      <td>19</td>\n",
       "      <td>6</td>\n",
       "      <td>13</td>\n",
       "      <td>9702</td>\n",
       "      <td>L1G</td>\n",
       "      <td>4</td>\n",
       "      <td>17.0</td>\n",
       "      <td>25.000000</td>\n",
       "    </tr>\n",
       "    <tr>\n",
       "      <th>18</th>\n",
       "      <td>FL</td>\n",
       "      <td></td>\n",
       "      <td>3601</td>\n",
       "      <td>XXXX</td>\n",
       "      <td></td>\n",
       "      <td>F</td>\n",
       "      <td>S2</td>\n",
       "      <td>4.0</td>\n",
       "      <td>H</td>\n",
       "      <td>661</td>\n",
       "      <td>668</td>\n",
       "      <td>4</td>\n",
       "      <td>4</td>\n",
       "      <td>276</td>\n",
       "      <td>288</td>\n",
       "      <td>308</td>\n",
       "      <td>320</td>\n",
       "      <td>10859</td>\n",
       "      <td></td>\n",
       "      <td>50</td>\n",
       "      <td>22</td>\n",
       "      <td>4</td>\n",
       "      <td>11</td>\n",
       "      <td>9702</td>\n",
       "      <td>L1F</td>\n",
       "      <td>10</td>\n",
       "      <td>5.0</td>\n",
       "      <td>8.100000</td>\n",
       "    </tr>\n",
       "    <tr>\n",
       "      <th>19</th>\n",
       "      <td>NC</td>\n",
       "      <td></td>\n",
       "      <td>0</td>\n",
       "      <td>XXXX</td>\n",
       "      <td></td>\n",
       "      <td>M</td>\n",
       "      <td>C2</td>\n",
       "      <td>NaN</td>\n",
       "      <td></td>\n",
       "      <td>548</td>\n",
       "      <td>793</td>\n",
       "      <td>1</td>\n",
       "      <td>1</td>\n",
       "      <td>197</td>\n",
       "      <td>246</td>\n",
       "      <td>259</td>\n",
       "      <td>300</td>\n",
       "      <td>10044</td>\n",
       "      <td></td>\n",
       "      <td>24</td>\n",
       "      <td>9</td>\n",
       "      <td>4</td>\n",
       "      <td>11</td>\n",
       "      <td>9702</td>\n",
       "      <td>L1F</td>\n",
       "      <td>2</td>\n",
       "      <td>8.0</td>\n",
       "      <td>15.000000</td>\n",
       "    </tr>\n",
       "  </tbody>\n",
       "</table>\n",
       "</div>"
      ],
      "text/plain": [
       "   STATE PVASTATE   DOB MDMAUD RECP3 GENDER DOMAIN  INCOME HOMEOWNR   HV1  \\\n",
       "0     IL           3712   XXXX            F     T2     NaN            479   \n",
       "1     CA           5202   XXXX            M     S1     6.0        H  5468   \n",
       "2     NC              0   XXXX            M     R2     3.0        U   497   \n",
       "3     CA           2801   XXXX            F     R2     1.0        U  1000   \n",
       "4     FL           2001   XXXX     X      F     S2     3.0        H   576   \n",
       "5     AL              0   XXXX                  T2     NaN            807   \n",
       "6     IN           6001   XXXX            F     T2     4.0        H   484   \n",
       "7     LA              0   XXXX            F     T2     2.0        U   702   \n",
       "8     IA              0   XXXX            M     R2     3.0        U   234   \n",
       "9     TN           3211   XXXX            M     T1     NaN            565   \n",
       "10    KS              0   XXXX            F     R3     2.0        U   231   \n",
       "11    IN           2301   XXXX            M     S2     1.0        U   583   \n",
       "12    MN           2603   XXXX            F     R3     4.0        H   388   \n",
       "13    LA              0   XXXX            M     T2     NaN            677   \n",
       "14    UT           2709   XXXX            M     T1     4.0        H   766   \n",
       "15    CA              0   XXXX            M     U1     1.0        H  5251   \n",
       "16    MI           5401   XXXX            M     S2     1.0        U   623   \n",
       "17    IL           5201   XXXX            F     R2     7.0        U   342   \n",
       "18    FL           3601   XXXX            F     S2     4.0        H   661   \n",
       "19    NC              0   XXXX            M     C2     NaN            548   \n",
       "\n",
       "     HV2  HV3  HV4   IC1   IC2   IC3   IC4    IC5 VETERANS  NUMPROM  CARDPROM  \\\n",
       "0    635    3    2   307   318   349   378  12883                74        27   \n",
       "1   5218   12   10  1088  1096  1026  1037  36175                32        12   \n",
       "2    546    2    1   251   292   292   340  11576                63        26   \n",
       "3   1263    2    1   386   388   396   423  15130                66        27   \n",
       "4    594    4    3   240   250   293   321   9836               113        43   \n",
       "5    899    3    3   364   410   406   454  15619                35        15   \n",
       "6    519    3    3   251   284   278   311  10717                63        26   \n",
       "7    787    3    3   367   457   431   466  14248                35        14   \n",
       "8    288    2    1   226   266   280   323  11127                70        29   \n",
       "9    581    3    3   291   329   311   332  10517                28        11   \n",
       "10   273    2    1   173   222   220   273   9045                14         6   \n",
       "11   670    4    4   246   346   269   411  16929                17         8   \n",
       "12   428    2    1   225   267   267   305   9587                55        21   \n",
       "13   732    3    2   298   335   355   392  11556                72        23   \n",
       "14   800    3    3   356   373   342   370   8424                41        18   \n",
       "15  5024    9    9   681   806   740   865  36257                27         9   \n",
       "16   624    4    4   362   385   368   406  16182                30        12   \n",
       "17   377    2    1   245   283   280   313  10260                48        19   \n",
       "18   668    4    4   276   288   308   320  10859                50        22   \n",
       "19   793    1    1   197   246   259   300  10044                24         9   \n",
       "\n",
       "    CARDPM12  NUMPRM12  MAXADATE RFA_2  NGIFTALL  TIMELAG    AVGGIFT  \n",
       "0          6        14      9702   L4E        31      4.0   7.741935  \n",
       "1          6        13      9702   L2G         3     18.0  15.666667  \n",
       "2          6        14      9702   L4E        27     12.0   7.481481  \n",
       "3          6        14      9702   L4E        16      9.0   6.812500  \n",
       "4         10        25      9702   L2F        37     14.0   6.864865  \n",
       "5          6        12      9702   L1F         4      6.0  12.750000  \n",
       "6          4         9      9702   L1E        14      4.0   7.642857  \n",
       "7          6        12      9702   L3E         5      6.0   6.200000  \n",
       "8          6        12      9702   L1F        11      8.0  18.090909  \n",
       "9          4         9      9702   L1F         3      7.0   9.333333  \n",
       "10         5        12      9702   L1F         1      NaN  20.000000  \n",
       "11         6        12      9702   L2F         2      3.0  12.500000  \n",
       "12         6        12      9702   L4D         9      5.0   5.333333  \n",
       "13         7        29      9702   L1G        12      1.0  20.416667  \n",
       "14         6        11      9702   L1F         7      4.0  10.571429  \n",
       "15         4        10      9702   L1F         2     23.0  12.500000  \n",
       "16         6        13      9702   L2F         3     17.0  12.333333  \n",
       "17         6        13      9702   L1G         4     17.0  25.000000  \n",
       "18         4        11      9702   L1F        10      5.0   8.100000  \n",
       "19         4        11      9702   L1F         2      8.0  15.000000  "
      ]
     },
     "execution_count": 14,
     "metadata": {},
     "output_type": "execute_result"
    }
   ],
   "source": [
    "data.head(20)"
   ]
  },
  {
   "cell_type": "code",
   "execution_count": 15,
   "metadata": {},
   "outputs": [],
   "source": [
    "lst = np.arange(10)"
   ]
  },
  {
   "cell_type": "code",
   "execution_count": 16,
   "metadata": {},
   "outputs": [
    {
     "data": {
      "text/plain": [
       "[1.0, 1.7320508075688772, 2.23606797749979, 2.6457513110645907, 3.0]"
      ]
     },
     "execution_count": 16,
     "metadata": {},
     "output_type": "execute_result"
    }
   ],
   "source": [
    "list(map(np.sqrt, filter(lambda x: x % 2 == 1, lst)))"
   ]
  },
  {
   "cell_type": "code",
   "execution_count": 17,
   "metadata": {},
   "outputs": [
    {
     "data": {
      "text/plain": [
       "10.613870096133258"
      ]
     },
     "execution_count": 17,
     "metadata": {},
     "output_type": "execute_result"
    }
   ],
   "source": [
    "from functools import reduce\n",
    "lst = [0,1,2,3,4,5,6,7,8,9,10]\n",
    "reduce(lambda a,b: a+b, map( np.sqrt, filter(lambda x: x % 2 == 1, lst)), 0)\n"
   ]
  },
  {
   "cell_type": "code",
   "execution_count": 18,
   "metadata": {},
   "outputs": [
    {
     "data": {
      "text/plain": [
       "(2704.976526584617,\n",
       " 0.0,\n",
       " 6,\n",
       " array([[1.26907424e+03, 4.54051607e-01, 9.08103214e-01, 2.20977836e+04,\n",
       "         1.52561340e+02, 1.68598443e+04, 7.42374378e+02],\n",
       "        [1.52592576e+03, 5.45948393e-01, 1.09189679e+00, 2.65702164e+04,\n",
       "         1.83438660e+02, 2.02721557e+04, 8.92625622e+02]]))"
      ]
     },
     "execution_count": 18,
     "metadata": {},
     "output_type": "execute_result"
    }
   ],
   "source": [
    "from scipy.stats import chi2_contingency\n",
    "\n",
    "data_crosstab = pd.crosstab(np.where(data['INCOME']>3,'HIGH_INCOME', 'LOW_INCOME'), data['GENDER'], margins = False)\n",
    "chi2_contingency(data_crosstab, correction=False)"
   ]
  },
  {
   "cell_type": "code",
   "execution_count": 19,
   "metadata": {},
   "outputs": [
    {
     "data": {
      "text/plain": [
       "(90569, 28)"
      ]
     },
     "execution_count": 19,
     "metadata": {},
     "output_type": "execute_result"
    }
   ],
   "source": [
    "data.shape"
   ]
  },
  {
   "cell_type": "code",
   "execution_count": 20,
   "metadata": {},
   "outputs": [],
   "source": [
    "# data.dtypes"
   ]
  },
  {
   "cell_type": "code",
   "execution_count": 21,
   "metadata": {
    "scrolled": true
   },
   "outputs": [
    {
     "data": {
      "text/html": [
       "<div>\n",
       "<style scoped>\n",
       "    .dataframe tbody tr th:only-of-type {\n",
       "        vertical-align: middle;\n",
       "    }\n",
       "\n",
       "    .dataframe tbody tr th {\n",
       "        vertical-align: top;\n",
       "    }\n",
       "\n",
       "    .dataframe thead th {\n",
       "        text-align: right;\n",
       "    }\n",
       "</style>\n",
       "<table border=\"1\" class=\"dataframe\">\n",
       "  <thead>\n",
       "    <tr style=\"text-align: right;\">\n",
       "      <th></th>\n",
       "      <th>column_name</th>\n",
       "      <th>Percentage Null Values</th>\n",
       "    </tr>\n",
       "  </thead>\n",
       "  <tbody>\n",
       "    <tr>\n",
       "      <th>7</th>\n",
       "      <td>INCOME</td>\n",
       "      <td>0.222847</td>\n",
       "    </tr>\n",
       "    <tr>\n",
       "      <th>26</th>\n",
       "      <td>TIMELAG</td>\n",
       "      <td>0.106582</td>\n",
       "    </tr>\n",
       "    <tr>\n",
       "      <th>0</th>\n",
       "      <td>STATE</td>\n",
       "      <td>0.000000</td>\n",
       "    </tr>\n",
       "    <tr>\n",
       "      <th>15</th>\n",
       "      <td>IC3</td>\n",
       "      <td>0.000000</td>\n",
       "    </tr>\n",
       "    <tr>\n",
       "      <th>25</th>\n",
       "      <td>NGIFTALL</td>\n",
       "      <td>0.000000</td>\n",
       "    </tr>\n",
       "    <tr>\n",
       "      <th>24</th>\n",
       "      <td>RFA_2</td>\n",
       "      <td>0.000000</td>\n",
       "    </tr>\n",
       "    <tr>\n",
       "      <th>23</th>\n",
       "      <td>MAXADATE</td>\n",
       "      <td>0.000000</td>\n",
       "    </tr>\n",
       "    <tr>\n",
       "      <th>22</th>\n",
       "      <td>NUMPRM12</td>\n",
       "      <td>0.000000</td>\n",
       "    </tr>\n",
       "    <tr>\n",
       "      <th>21</th>\n",
       "      <td>CARDPM12</td>\n",
       "      <td>0.000000</td>\n",
       "    </tr>\n",
       "    <tr>\n",
       "      <th>20</th>\n",
       "      <td>CARDPROM</td>\n",
       "      <td>0.000000</td>\n",
       "    </tr>\n",
       "    <tr>\n",
       "      <th>19</th>\n",
       "      <td>NUMPROM</td>\n",
       "      <td>0.000000</td>\n",
       "    </tr>\n",
       "    <tr>\n",
       "      <th>18</th>\n",
       "      <td>VETERANS</td>\n",
       "      <td>0.000000</td>\n",
       "    </tr>\n",
       "    <tr>\n",
       "      <th>17</th>\n",
       "      <td>IC5</td>\n",
       "      <td>0.000000</td>\n",
       "    </tr>\n",
       "    <tr>\n",
       "      <th>16</th>\n",
       "      <td>IC4</td>\n",
       "      <td>0.000000</td>\n",
       "    </tr>\n",
       "    <tr>\n",
       "      <th>14</th>\n",
       "      <td>IC2</td>\n",
       "      <td>0.000000</td>\n",
       "    </tr>\n",
       "    <tr>\n",
       "      <th>1</th>\n",
       "      <td>PVASTATE</td>\n",
       "      <td>0.000000</td>\n",
       "    </tr>\n",
       "    <tr>\n",
       "      <th>13</th>\n",
       "      <td>IC1</td>\n",
       "      <td>0.000000</td>\n",
       "    </tr>\n",
       "    <tr>\n",
       "      <th>12</th>\n",
       "      <td>HV4</td>\n",
       "      <td>0.000000</td>\n",
       "    </tr>\n",
       "    <tr>\n",
       "      <th>11</th>\n",
       "      <td>HV3</td>\n",
       "      <td>0.000000</td>\n",
       "    </tr>\n",
       "    <tr>\n",
       "      <th>10</th>\n",
       "      <td>HV2</td>\n",
       "      <td>0.000000</td>\n",
       "    </tr>\n",
       "    <tr>\n",
       "      <th>9</th>\n",
       "      <td>HV1</td>\n",
       "      <td>0.000000</td>\n",
       "    </tr>\n",
       "    <tr>\n",
       "      <th>8</th>\n",
       "      <td>HOMEOWNR</td>\n",
       "      <td>0.000000</td>\n",
       "    </tr>\n",
       "    <tr>\n",
       "      <th>6</th>\n",
       "      <td>DOMAIN</td>\n",
       "      <td>0.000000</td>\n",
       "    </tr>\n",
       "    <tr>\n",
       "      <th>5</th>\n",
       "      <td>GENDER</td>\n",
       "      <td>0.000000</td>\n",
       "    </tr>\n",
       "    <tr>\n",
       "      <th>4</th>\n",
       "      <td>RECP3</td>\n",
       "      <td>0.000000</td>\n",
       "    </tr>\n",
       "    <tr>\n",
       "      <th>3</th>\n",
       "      <td>MDMAUD</td>\n",
       "      <td>0.000000</td>\n",
       "    </tr>\n",
       "    <tr>\n",
       "      <th>2</th>\n",
       "      <td>DOB</td>\n",
       "      <td>0.000000</td>\n",
       "    </tr>\n",
       "    <tr>\n",
       "      <th>27</th>\n",
       "      <td>AVGGIFT</td>\n",
       "      <td>0.000000</td>\n",
       "    </tr>\n",
       "  </tbody>\n",
       "</table>\n",
       "</div>"
      ],
      "text/plain": [
       "   column_name  Percentage Null Values\n",
       "7       INCOME                0.222847\n",
       "26     TIMELAG                0.106582\n",
       "0        STATE                0.000000\n",
       "15         IC3                0.000000\n",
       "25    NGIFTALL                0.000000\n",
       "24       RFA_2                0.000000\n",
       "23    MAXADATE                0.000000\n",
       "22    NUMPRM12                0.000000\n",
       "21    CARDPM12                0.000000\n",
       "20    CARDPROM                0.000000\n",
       "19     NUMPROM                0.000000\n",
       "18    VETERANS                0.000000\n",
       "17         IC5                0.000000\n",
       "16         IC4                0.000000\n",
       "14         IC2                0.000000\n",
       "1     PVASTATE                0.000000\n",
       "13         IC1                0.000000\n",
       "12         HV4                0.000000\n",
       "11         HV3                0.000000\n",
       "10         HV2                0.000000\n",
       "9          HV1                0.000000\n",
       "8     HOMEOWNR                0.000000\n",
       "6       DOMAIN                0.000000\n",
       "5       GENDER                0.000000\n",
       "4        RECP3                0.000000\n",
       "3       MDMAUD                0.000000\n",
       "2          DOB                0.000000\n",
       "27     AVGGIFT                0.000000"
      ]
     },
     "execution_count": 21,
     "metadata": {},
     "output_type": "execute_result"
    }
   ],
   "source": [
    "nulls = pd.DataFrame(data.isna().sum()/len(data))\n",
    "nulls= nulls.reset_index()\n",
    "nulls.columns = ['column_name', 'Percentage Null Values']\n",
    "nulls.sort_values(by='Percentage Null Values', ascending = False)"
   ]
  },
  {
   "cell_type": "markdown",
   "metadata": {},
   "source": [
    "INCOME might be an important factor in predicting the gift value, so even though it has a lot of null values , we will not drop the column\n",
    "In this exercise we will try a more precise method to replace the null values, instead of simply replacing them by a constant value, mean or median\n",
    "\n",
    "We will use the same method for the column TIMELAG"
   ]
  },
  {
   "cell_type": "markdown",
   "metadata": {},
   "source": [
    "Null values can be represented as either NaN, None, or NaT (this is usually used for datetime columns)"
   ]
  },
  {
   "cell_type": "markdown",
   "metadata": {},
   "source": [
    "Note: It is not the best idea to use df.dropna() as it deletes the complete row whereever there is a null value"
   ]
  },
  {
   "cell_type": "code",
   "execution_count": 22,
   "metadata": {
    "scrolled": true
   },
   "outputs": [
    {
     "data": {
      "text/plain": [
       "<AxesSubplot:>"
      ]
     },
     "execution_count": 22,
     "metadata": {},
     "output_type": "execute_result"
    },
    {
     "data": {
      "image/png": "[encoded data removed]",
      "text/plain": [
       "<Figure size 720x1080 with 1 Axes>"
      ]
     },
     "metadata": {
      "needs_background": "light"
     },
     "output_type": "display_data"
    }
   ],
   "source": [
    "data['INCOME'].hist()"
   ]
  },
  {
   "cell_type": "code",
   "execution_count": 23,
   "metadata": {},
   "outputs": [],
   "source": [
    "# Now lets choose a method to fill the null values "
   ]
  },
  {
   "cell_type": "code",
   "execution_count": 24,
   "metadata": {
    "scrolled": true
   },
   "outputs": [
    {
     "data": {
      "text/plain": [
       "<AxesSubplot:>"
      ]
     },
     "execution_count": 24,
     "metadata": {},
     "output_type": "execute_result"
    },
    {
     "data": {
      "image/png": "[encoded data removed]",
      "text/plain": [
       "<Figure size 720x1080 with 1 Axes>"
      ]
     },
     "metadata": {
      "needs_background": "light"
     },
     "output_type": "display_data"
    }
   ],
   "source": [
    "data['INCOME'][0:40].plot()"
   ]
  },
  {
   "cell_type": "code",
   "execution_count": 25,
   "metadata": {},
   "outputs": [
    {
     "data": {
      "text/plain": [
       "count    70386.000000\n",
       "mean         3.878257\n",
       "std          1.855265\n",
       "min          1.000000\n",
       "25%          2.000000\n",
       "50%          4.000000\n",
       "75%          5.000000\n",
       "max          7.000000\n",
       "Name: INCOME, dtype: float64"
      ]
     },
     "execution_count": 25,
     "metadata": {},
     "output_type": "execute_result"
    }
   ],
   "source": [
    "data['INCOME'].describe()"
   ]
  },
  {
   "cell_type": "code",
   "execution_count": 26,
   "metadata": {
    "scrolled": true
   },
   "outputs": [
    {
     "data": {
      "text/plain": [
       "<AxesSubplot:>"
      ]
     },
     "execution_count": 26,
     "metadata": {},
     "output_type": "execute_result"
    },
    {
     "data": {
      "image/png": "[encoded data removed]",
      "text/plain": [
       "<Figure size 720x1080 with 1 Axes>"
      ]
     },
     "metadata": {
      "needs_background": "light"
     },
     "output_type": "display_data"
    }
   ],
   "source": [
    "data['INCOME'][0:40].interpolate(method='linear').plot()"
   ]
  },
  {
   "cell_type": "code",
   "execution_count": 27,
   "metadata": {
    "scrolled": true
   },
   "outputs": [
    {
     "data": {
      "text/plain": [
       "<AxesSubplot:>"
      ]
     },
     "execution_count": 27,
     "metadata": {},
     "output_type": "execute_result"
    },
    {
     "data": {
      "image/png": "[encoded data removed]",
      "text/plain": [
       "<Figure size 720x1080 with 1 Axes>"
      ]
     },
     "metadata": {
      "needs_background": "light"
     },
     "output_type": "display_data"
    }
   ],
   "source": [
    "data['INCOME'][0:40].interpolate(method='akima').plot()"
   ]
  },
  {
   "cell_type": "code",
   "execution_count": 28,
   "metadata": {
    "scrolled": true
   },
   "outputs": [
    {
     "data": {
      "text/plain": [
       "<AxesSubplot:>"
      ]
     },
     "execution_count": 28,
     "metadata": {},
     "output_type": "execute_result"
    },
    {
     "data": {
      "image/png": "[encoded data removed]",
      "text/plain": [
       "<Figure size 720x1080 with 1 Axes>"
      ]
     },
     "metadata": {
      "needs_background": "light"
     },
     "output_type": "display_data"
    }
   ],
   "source": [
    "data['INCOME'][0:40].interpolate(method='polynomial', order=3).plot()"
   ]
  },
  {
   "cell_type": "code",
   "execution_count": 29,
   "metadata": {},
   "outputs": [],
   "source": [
    "points = data['INCOME'].interpolate(method='akima')"
   ]
  },
  {
   "cell_type": "code",
   "execution_count": 30,
   "metadata": {},
   "outputs": [],
   "source": [
    "points2 = data['INCOME'].fillna(np.mean(data['INCOME']))"
   ]
  },
  {
   "cell_type": "code",
   "execution_count": 31,
   "metadata": {},
   "outputs": [
    {
     "data": {
      "text/plain": [
       "3.0"
      ]
     },
     "execution_count": 31,
     "metadata": {},
     "output_type": "execute_result"
    }
   ],
   "source": [
    "np.median(data['INCOME'].fillna(0))"
   ]
  },
  {
   "cell_type": "code",
   "execution_count": 32,
   "metadata": {},
   "outputs": [],
   "source": [
    "points3 = data['INCOME'].fillna(np.median(data['INCOME'].fillna(0)))"
   ]
  },
  {
   "cell_type": "code",
   "execution_count": 33,
   "metadata": {},
   "outputs": [
    {
     "data": {
      "text/plain": [
       "nan"
      ]
     },
     "execution_count": 33,
     "metadata": {},
     "output_type": "execute_result"
    }
   ],
   "source": [
    "np.median(data['INCOME'])"
   ]
  },
  {
   "cell_type": "code",
   "execution_count": 34,
   "metadata": {
    "scrolled": true
   },
   "outputs": [
    {
     "data": {
      "text/plain": [
       "<AxesSubplot:xlabel='IC4', ylabel='INCOME'>"
      ]
     },
     "execution_count": 34,
     "metadata": {},
     "output_type": "execute_result"
    },
    {
     "data": {
      "image/png": "[encoded data removed]",
      "text/plain": [
       "<Figure size 720x1080 with 1 Axes>"
      ]
     },
     "metadata": {
      "needs_background": "light"
     },
     "output_type": "display_data"
    }
   ],
   "source": [
    "sns.regplot('IC4', 'INCOME', data=data)"
   ]
  },
  {
   "cell_type": "code",
   "execution_count": null,
   "metadata": {},
   "outputs": [],
   "source": []
  },
  {
   "cell_type": "code",
   "execution_count": 35,
   "metadata": {
    "scrolled": true
   },
   "outputs": [
    {
     "data": {
      "text/plain": [
       "<AxesSubplot:xlabel='INCOME', ylabel='Density'>"
      ]
     },
     "execution_count": 35,
     "metadata": {},
     "output_type": "execute_result"
    },
    {
     "data": {
      "image/png": "[encoded data removed]",
      "text/plain": [
       "<Figure size 720x1080 with 1 Axes>"
      ]
     },
     "metadata": {
      "needs_background": "light"
     },
     "output_type": "display_data"
    }
   ],
   "source": [
    "sns.distplot(points[1:])"
   ]
  },
  {
   "cell_type": "code",
   "execution_count": 36,
   "metadata": {
    "scrolled": true
   },
   "outputs": [
    {
     "data": {
      "text/plain": [
       "<AxesSubplot:xlabel='INCOME', ylabel='Density'>"
      ]
     },
     "execution_count": 36,
     "metadata": {},
     "output_type": "execute_result"
    },
    {
     "data": {
      "image/png": "[encoded data removed]",
      "text/plain": [
       "<Figure size 720x1080 with 1 Axes>"
      ]
     },
     "metadata": {
      "needs_background": "light"
     },
     "output_type": "display_data"
    }
   ],
   "source": [
    "sns.distplot(points2)"
   ]
  },
  {
   "cell_type": "code",
   "execution_count": 37,
   "metadata": {
    "scrolled": true
   },
   "outputs": [
    {
     "data": {
      "text/plain": [
       "<AxesSubplot:xlabel='INCOME', ylabel='Density'>"
      ]
     },
     "execution_count": 37,
     "metadata": {},
     "output_type": "execute_result"
    },
    {
     "data": {
      "image/png": "[encoded data removed]",
      "text/plain": [
       "<Figure size 720x1080 with 1 Axes>"
      ]
     },
     "metadata": {
      "needs_background": "light"
     },
     "output_type": "display_data"
    }
   ],
   "source": [
    "sns.distplot(points3)"
   ]
  },
  {
   "cell_type": "code",
   "execution_count": 38,
   "metadata": {},
   "outputs": [],
   "source": [
    "data['INCOME'] = data['INCOME'].fillna(np.mean(data['INCOME']))"
   ]
  },
  {
   "cell_type": "code",
   "execution_count": 39,
   "metadata": {},
   "outputs": [
    {
     "data": {
      "text/plain": [
       "854"
      ]
     },
     "execution_count": 39,
     "metadata": {},
     "output_type": "execute_result"
    }
   ],
   "source": [
    "sum(data['TIMELAG'] ==0)"
   ]
  },
  {
   "cell_type": "code",
   "execution_count": 40,
   "metadata": {},
   "outputs": [
    {
     "data": {
      "text/plain": [
       "-inf"
      ]
     },
     "execution_count": 40,
     "metadata": {},
     "output_type": "execute_result"
    }
   ],
   "source": [
    "np.log(0)"
   ]
  },
  {
   "cell_type": "code",
   "execution_count": 41,
   "metadata": {
    "scrolled": true
   },
   "outputs": [
    {
     "data": {
      "text/plain": [
       "<AxesSubplot:xlabel='IC1', ylabel='Density'>"
      ]
     },
     "execution_count": 41,
     "metadata": {},
     "output_type": "execute_result"
    },
    {
     "data": {
      "image/png": "[encoded data removed]",
      "text/plain": [
       "<Figure size 720x1080 with 1 Axes>"
      ]
     },
     "metadata": {
      "needs_background": "light"
     },
     "output_type": "display_data"
    }
   ],
   "source": [
    "sns.distplot(data['IC1'])"
   ]
  },
  {
   "cell_type": "code",
   "execution_count": 42,
   "metadata": {},
   "outputs": [
    {
     "name": "stdout",
     "output_type": "stream",
     "text": [
      "nan\n"
     ]
    }
   ],
   "source": [
    "iqr = np.percentile(data['TIMELAG'],75) - np.percentile(data['TIMELAG'],25)\n",
    "upper_limit = np.percentile(data['TIMELAG'],75) + 1.5*iqr\n",
    "print(upper_limit)\n"
   ]
  },
  {
   "cell_type": "code",
   "execution_count": 43,
   "metadata": {},
   "outputs": [
    {
     "data": {
      "text/plain": [
       "80916"
      ]
     },
     "execution_count": 43,
     "metadata": {},
     "output_type": "execute_result"
    }
   ],
   "source": [
    "points = list(filter(lambda x: x < 10000, data['TIMELAG']))\n",
    "len(points)"
   ]
  },
  {
   "cell_type": "code",
   "execution_count": 44,
   "metadata": {
    "scrolled": true
   },
   "outputs": [
    {
     "data": {
      "text/plain": [
       "<AxesSubplot:>"
      ]
     },
     "execution_count": 44,
     "metadata": {},
     "output_type": "execute_result"
    },
    {
     "data": {
      "image/png": "[encoded data removed]",
      "text/plain": [
       "<Figure size 720x1080 with 1 Axes>"
      ]
     },
     "metadata": {
      "needs_background": "light"
     },
     "output_type": "display_data"
    }
   ],
   "source": [
    "data['TIMELAG'].hist(bins=40)"
   ]
  },
  {
   "cell_type": "code",
   "execution_count": 45,
   "metadata": {
    "scrolled": true
   },
   "outputs": [
    {
     "data": {
      "text/plain": [
       "<AxesSubplot:ylabel='TIMELAG'>"
      ]
     },
     "execution_count": 45,
     "metadata": {},
     "output_type": "execute_result"
    },
    {
     "data": {
      "image/png": "[encoded data removed]",
      "text/plain": [
       "<Figure size 720x1080 with 1 Axes>"
      ]
     },
     "metadata": {
      "needs_background": "light"
     },
     "output_type": "display_data"
    }
   ],
   "source": [
    "sns.boxplot(y=data['TIMELAG'])"
   ]
  },
  {
   "cell_type": "code",
   "execution_count": 46,
   "metadata": {},
   "outputs": [],
   "source": [
    "# Data in Timelag column is highly skewed (positive skewness)\n",
    "# Removing outliers straight away might not be the best idea as it would remove a lot of data points from the data\n",
    "# We will try some transformations "
   ]
  },
  {
   "cell_type": "code",
   "execution_count": 47,
   "metadata": {},
   "outputs": [
    {
     "data": {
      "text/plain": [
       "count    80916.000000\n",
       "mean         8.114378\n",
       "std          8.310877\n",
       "min          0.000000\n",
       "25%          4.000000\n",
       "50%          6.000000\n",
       "75%         11.000000\n",
       "max       1088.000000\n",
       "Name: TIMELAG, dtype: float64"
      ]
     },
     "execution_count": 47,
     "metadata": {},
     "output_type": "execute_result"
    }
   ],
   "source": [
    "data['TIMELAG'].describe()"
   ]
  },
  {
   "cell_type": "code",
   "execution_count": 48,
   "metadata": {},
   "outputs": [],
   "source": [
    "def log_transfom_clean_(x):\n",
    "    if np.isfinite(x) and x!=0:\n",
    "        return np.log(x)\n",
    "    else:\n",
    "        return np.NAN # We are returning NaNs so that we can replace them later"
   ]
  },
  {
   "cell_type": "code",
   "execution_count": 49,
   "metadata": {
    "scrolled": true
   },
   "outputs": [
    {
     "data": {
      "text/plain": [
       "<AxesSubplot:>"
      ]
     },
     "execution_count": 49,
     "metadata": {},
     "output_type": "execute_result"
    },
    {
     "data": {
      "image/png": "[encoded data removed]",
      "text/plain": [
       "<Figure size 720x1080 with 1 Axes>"
      ]
     },
     "metadata": {
      "needs_background": "light"
     },
     "output_type": "display_data"
    }
   ],
   "source": [
    "pd.Series(map(log_transfom_clean_, data['TIMELAG'])).hist()"
   ]
  },
  {
   "cell_type": "code",
   "execution_count": 50,
   "metadata": {},
   "outputs": [
    {
     "data": {
      "text/plain": [
       "count    80062.000000\n",
       "mean         1.826874\n",
       "std          0.773448\n",
       "min          0.000000\n",
       "25%          1.386294\n",
       "50%          1.945910\n",
       "75%          2.397895\n",
       "max          6.992096\n",
       "dtype: float64"
      ]
     },
     "execution_count": 50,
     "metadata": {},
     "output_type": "execute_result"
    }
   ],
   "source": [
    "pd.Series(map(log_transfom_clean_, data['TIMELAG'])).describe()"
   ]
  },
  {
   "cell_type": "code",
   "execution_count": 51,
   "metadata": {},
   "outputs": [],
   "source": [
    "# data['TIMELAG'] = list(map(sqrt_transfom_clean_, data['TIMELAG']))"
   ]
  },
  {
   "cell_type": "code",
   "execution_count": 52,
   "metadata": {
    "scrolled": true
   },
   "outputs": [
    {
     "data": {
      "image/png": "[encoded data removed]",
      "text/plain": [
       "<Figure size 720x1080 with 1 Axes>"
      ]
     },
     "metadata": {
      "needs_background": "light"
     },
     "output_type": "display_data"
    }
   ],
   "source": [
    "data['TIMELAG'] = list(map(log_transfom_clean_, data['TIMELAG']))\n",
    "data['TIMELAG'] = data['TIMELAG'].fillna(np.mean(data['TIMELAG']))\n",
    "sns.distplot(data['TIMELAG'])\n",
    "plt.show()"
   ]
  },
  {
   "cell_type": "code",
   "execution_count": 53,
   "metadata": {
    "scrolled": true
   },
   "outputs": [
    {
     "data": {
      "image/png": "[encoded data removed]",
      "text/plain": [
       "<Figure size 720x1080 with 1 Axes>"
      ]
     },
     "metadata": {
      "needs_background": "light"
     },
     "output_type": "display_data"
    }
   ],
   "source": [
    "data['TIMELAG'] = data['TIMELAG'].fillna(np.mean(data['TIMELAG']))\n",
    "sns.distplot(data['TIMELAG'])\n",
    "plt.show()"
   ]
  },
  {
   "cell_type": "code",
   "execution_count": null,
   "metadata": {},
   "outputs": [],
   "source": []
  },
  {
   "cell_type": "code",
   "execution_count": 54,
   "metadata": {},
   "outputs": [],
   "source": [
    "def sqrt_transfom_clean_(x):\n",
    "    if np.isfinite(x) and x>=0:\n",
    "        return np.sqrt(x)\n",
    "    else:\n",
    "        return np.NAN # We are returning NaNs so that we can replace them later"
   ]
  },
  {
   "cell_type": "code",
   "execution_count": 55,
   "metadata": {
    "scrolled": true
   },
   "outputs": [
    {
     "data": {
      "text/plain": [
       "<AxesSubplot:>"
      ]
     },
     "execution_count": 55,
     "metadata": {},
     "output_type": "execute_result"
    },
    {
     "data": {
      "image/png": "[encoded data removed]",
      "text/plain": [
       "<Figure size 720x1080 with 1 Axes>"
      ]
     },
     "metadata": {
      "needs_background": "light"
     },
     "output_type": "display_data"
    }
   ],
   "source": [
    "pd.Series(map(sqrt_transfom_clean_, data['TIMELAG'])).hist()"
   ]
  },
  {
   "cell_type": "code",
   "execution_count": null,
   "metadata": {},
   "outputs": [],
   "source": []
  },
  {
   "cell_type": "code",
   "execution_count": null,
   "metadata": {},
   "outputs": [],
   "source": []
  },
  {
   "cell_type": "code",
   "execution_count": null,
   "metadata": {},
   "outputs": [],
   "source": []
  },
  {
   "cell_type": "code",
   "execution_count": 56,
   "metadata": {},
   "outputs": [
    {
     "name": "stdout",
     "output_type": "stream",
     "text": [
      "2\n"
     ]
    }
   ],
   "source": [
    "x = 2 \n",
    "if x>0 and x<4:\n",
    "    print(x)"
   ]
  },
  {
   "cell_type": "code",
   "execution_count": null,
   "metadata": {},
   "outputs": [],
   "source": []
  },
  {
   "cell_type": "code",
   "execution_count": null,
   "metadata": {},
   "outputs": [],
   "source": []
  },
  {
   "cell_type": "code",
   "execution_count": null,
   "metadata": {},
   "outputs": [],
   "source": []
  },
  {
   "cell_type": "code",
   "execution_count": null,
   "metadata": {},
   "outputs": [],
   "source": []
  },
  {
   "cell_type": "code",
   "execution_count": 57,
   "metadata": {},
   "outputs": [],
   "source": [
    "numericals = data.select_dtypes(np.number)"
   ]
  },
  {
   "cell_type": "code",
   "execution_count": 58,
   "metadata": {},
   "outputs": [
    {
     "data": {
      "text/html": [
       "<div>\n",
       "<style scoped>\n",
       "    .dataframe tbody tr th:only-of-type {\n",
       "        vertical-align: middle;\n",
       "    }\n",
       "\n",
       "    .dataframe tbody tr th {\n",
       "        vertical-align: top;\n",
       "    }\n",
       "\n",
       "    .dataframe thead th {\n",
       "        text-align: right;\n",
       "    }\n",
       "</style>\n",
       "<table border=\"1\" class=\"dataframe\">\n",
       "  <thead>\n",
       "    <tr style=\"text-align: right;\">\n",
       "      <th></th>\n",
       "      <th>DOB</th>\n",
       "      <th>INCOME</th>\n",
       "      <th>HV1</th>\n",
       "      <th>HV2</th>\n",
       "      <th>HV3</th>\n",
       "      <th>HV4</th>\n",
       "      <th>IC1</th>\n",
       "      <th>IC2</th>\n",
       "      <th>IC3</th>\n",
       "      <th>IC4</th>\n",
       "      <th>IC5</th>\n",
       "      <th>NUMPROM</th>\n",
       "      <th>CARDPROM</th>\n",
       "      <th>CARDPM12</th>\n",
       "      <th>NUMPRM12</th>\n",
       "      <th>MAXADATE</th>\n",
       "      <th>NGIFTALL</th>\n",
       "      <th>TIMELAG</th>\n",
       "      <th>AVGGIFT</th>\n",
       "    </tr>\n",
       "  </thead>\n",
       "  <tbody>\n",
       "    <tr>\n",
       "      <th>0</th>\n",
       "      <td>3712</td>\n",
       "      <td>3.878257</td>\n",
       "      <td>479</td>\n",
       "      <td>635</td>\n",
       "      <td>3</td>\n",
       "      <td>2</td>\n",
       "      <td>307</td>\n",
       "      <td>318</td>\n",
       "      <td>349</td>\n",
       "      <td>378</td>\n",
       "      <td>12883</td>\n",
       "      <td>74</td>\n",
       "      <td>27</td>\n",
       "      <td>6</td>\n",
       "      <td>14</td>\n",
       "      <td>9702</td>\n",
       "      <td>31</td>\n",
       "      <td>1.386294</td>\n",
       "      <td>7.741935</td>\n",
       "    </tr>\n",
       "    <tr>\n",
       "      <th>1</th>\n",
       "      <td>5202</td>\n",
       "      <td>6.000000</td>\n",
       "      <td>5468</td>\n",
       "      <td>5218</td>\n",
       "      <td>12</td>\n",
       "      <td>10</td>\n",
       "      <td>1088</td>\n",
       "      <td>1096</td>\n",
       "      <td>1026</td>\n",
       "      <td>1037</td>\n",
       "      <td>36175</td>\n",
       "      <td>32</td>\n",
       "      <td>12</td>\n",
       "      <td>6</td>\n",
       "      <td>13</td>\n",
       "      <td>9702</td>\n",
       "      <td>3</td>\n",
       "      <td>2.890372</td>\n",
       "      <td>15.666667</td>\n",
       "    </tr>\n",
       "    <tr>\n",
       "      <th>2</th>\n",
       "      <td>0</td>\n",
       "      <td>3.000000</td>\n",
       "      <td>497</td>\n",
       "      <td>546</td>\n",
       "      <td>2</td>\n",
       "      <td>1</td>\n",
       "      <td>251</td>\n",
       "      <td>292</td>\n",
       "      <td>292</td>\n",
       "      <td>340</td>\n",
       "      <td>11576</td>\n",
       "      <td>63</td>\n",
       "      <td>26</td>\n",
       "      <td>6</td>\n",
       "      <td>14</td>\n",
       "      <td>9702</td>\n",
       "      <td>27</td>\n",
       "      <td>2.484907</td>\n",
       "      <td>7.481481</td>\n",
       "    </tr>\n",
       "    <tr>\n",
       "      <th>3</th>\n",
       "      <td>2801</td>\n",
       "      <td>1.000000</td>\n",
       "      <td>1000</td>\n",
       "      <td>1263</td>\n",
       "      <td>2</td>\n",
       "      <td>1</td>\n",
       "      <td>386</td>\n",
       "      <td>388</td>\n",
       "      <td>396</td>\n",
       "      <td>423</td>\n",
       "      <td>15130</td>\n",
       "      <td>66</td>\n",
       "      <td>27</td>\n",
       "      <td>6</td>\n",
       "      <td>14</td>\n",
       "      <td>9702</td>\n",
       "      <td>16</td>\n",
       "      <td>2.197225</td>\n",
       "      <td>6.812500</td>\n",
       "    </tr>\n",
       "    <tr>\n",
       "      <th>4</th>\n",
       "      <td>2001</td>\n",
       "      <td>3.000000</td>\n",
       "      <td>576</td>\n",
       "      <td>594</td>\n",
       "      <td>4</td>\n",
       "      <td>3</td>\n",
       "      <td>240</td>\n",
       "      <td>250</td>\n",
       "      <td>293</td>\n",
       "      <td>321</td>\n",
       "      <td>9836</td>\n",
       "      <td>113</td>\n",
       "      <td>43</td>\n",
       "      <td>10</td>\n",
       "      <td>25</td>\n",
       "      <td>9702</td>\n",
       "      <td>37</td>\n",
       "      <td>2.639057</td>\n",
       "      <td>6.864865</td>\n",
       "    </tr>\n",
       "  </tbody>\n",
       "</table>\n",
       "</div>"
      ],
      "text/plain": [
       "    DOB    INCOME   HV1   HV2  HV3  HV4   IC1   IC2   IC3   IC4    IC5  \\\n",
       "0  3712  3.878257   479   635    3    2   307   318   349   378  12883   \n",
       "1  5202  6.000000  5468  5218   12   10  1088  1096  1026  1037  36175   \n",
       "2     0  3.000000   497   546    2    1   251   292   292   340  11576   \n",
       "3  2801  1.000000  1000  1263    2    1   386   388   396   423  15130   \n",
       "4  2001  3.000000   576   594    4    3   240   250   293   321   9836   \n",
       "\n",
       "   NUMPROM  CARDPROM  CARDPM12  NUMPRM12  MAXADATE  NGIFTALL   TIMELAG  \\\n",
       "0       74        27         6        14      9702        31  1.386294   \n",
       "1       32        12         6        13      9702         3  2.890372   \n",
       "2       63        26         6        14      9702        27  2.484907   \n",
       "3       66        27         6        14      9702        16  2.197225   \n",
       "4      113        43        10        25      9702        37  2.639057   \n",
       "\n",
       "     AVGGIFT  \n",
       "0   7.741935  \n",
       "1  15.666667  \n",
       "2   7.481481  \n",
       "3   6.812500  \n",
       "4   6.864865  "
      ]
     },
     "execution_count": 58,
     "metadata": {},
     "output_type": "execute_result"
    }
   ],
   "source": [
    "numericals.head()"
   ]
  },
  {
   "cell_type": "code",
   "execution_count": null,
   "metadata": {},
   "outputs": [],
   "source": []
  },
  {
   "cell_type": "code",
   "execution_count": null,
   "metadata": {},
   "outputs": [],
   "source": []
  },
  {
   "cell_type": "markdown",
   "metadata": {},
   "source": [
    "As you can see after using the head function, there are some null values in the columns , PVSTATE, RECP3, HOMEWNR, VETERANS. But they are not showing up in dataframe above. So there might be empty spaces there that we\n",
    "would need to check and clean later\n"
   ]
  },
  {
   "cell_type": "code",
   "execution_count": null,
   "metadata": {},
   "outputs": [],
   "source": []
  },
  {
   "cell_type": "markdown",
   "metadata": {},
   "source": [
    "## Lesson 4"
   ]
  },
  {
   "cell_type": "code",
   "execution_count": 59,
   "metadata": {},
   "outputs": [
    {
     "data": {
      "text/html": [
       "<div>\n",
       "<style scoped>\n",
       "    .dataframe tbody tr th:only-of-type {\n",
       "        vertical-align: middle;\n",
       "    }\n",
       "\n",
       "    .dataframe tbody tr th {\n",
       "        vertical-align: top;\n",
       "    }\n",
       "\n",
       "    .dataframe thead th {\n",
       "        text-align: right;\n",
       "    }\n",
       "</style>\n",
       "<table border=\"1\" class=\"dataframe\">\n",
       "  <thead>\n",
       "    <tr style=\"text-align: right;\">\n",
       "      <th></th>\n",
       "      <th>STATE</th>\n",
       "      <th>PVASTATE</th>\n",
       "      <th>DOB</th>\n",
       "      <th>MDMAUD</th>\n",
       "      <th>RECP3</th>\n",
       "      <th>GENDER</th>\n",
       "      <th>DOMAIN</th>\n",
       "      <th>INCOME</th>\n",
       "      <th>HOMEOWNR</th>\n",
       "      <th>HV1</th>\n",
       "      <th>HV2</th>\n",
       "      <th>HV3</th>\n",
       "      <th>HV4</th>\n",
       "      <th>IC1</th>\n",
       "      <th>IC2</th>\n",
       "      <th>IC3</th>\n",
       "      <th>IC4</th>\n",
       "      <th>IC5</th>\n",
       "      <th>VETERANS</th>\n",
       "      <th>NUMPROM</th>\n",
       "      <th>CARDPROM</th>\n",
       "      <th>CARDPM12</th>\n",
       "      <th>NUMPRM12</th>\n",
       "      <th>MAXADATE</th>\n",
       "      <th>RFA_2</th>\n",
       "      <th>NGIFTALL</th>\n",
       "      <th>TIMELAG</th>\n",
       "      <th>AVGGIFT</th>\n",
       "    </tr>\n",
       "  </thead>\n",
       "  <tbody>\n",
       "    <tr>\n",
       "      <th>0</th>\n",
       "      <td>IL</td>\n",
       "      <td></td>\n",
       "      <td>3712</td>\n",
       "      <td>XXXX</td>\n",
       "      <td></td>\n",
       "      <td>F</td>\n",
       "      <td>T2</td>\n",
       "      <td>3.878257</td>\n",
       "      <td></td>\n",
       "      <td>479</td>\n",
       "      <td>635</td>\n",
       "      <td>3</td>\n",
       "      <td>2</td>\n",
       "      <td>307</td>\n",
       "      <td>318</td>\n",
       "      <td>349</td>\n",
       "      <td>378</td>\n",
       "      <td>12883</td>\n",
       "      <td></td>\n",
       "      <td>74</td>\n",
       "      <td>27</td>\n",
       "      <td>6</td>\n",
       "      <td>14</td>\n",
       "      <td>9702</td>\n",
       "      <td>L4E</td>\n",
       "      <td>31</td>\n",
       "      <td>1.386294</td>\n",
       "      <td>7.741935</td>\n",
       "    </tr>\n",
       "    <tr>\n",
       "      <th>1</th>\n",
       "      <td>CA</td>\n",
       "      <td></td>\n",
       "      <td>5202</td>\n",
       "      <td>XXXX</td>\n",
       "      <td></td>\n",
       "      <td>M</td>\n",
       "      <td>S1</td>\n",
       "      <td>6.000000</td>\n",
       "      <td>H</td>\n",
       "      <td>5468</td>\n",
       "      <td>5218</td>\n",
       "      <td>12</td>\n",
       "      <td>10</td>\n",
       "      <td>1088</td>\n",
       "      <td>1096</td>\n",
       "      <td>1026</td>\n",
       "      <td>1037</td>\n",
       "      <td>36175</td>\n",
       "      <td></td>\n",
       "      <td>32</td>\n",
       "      <td>12</td>\n",
       "      <td>6</td>\n",
       "      <td>13</td>\n",
       "      <td>9702</td>\n",
       "      <td>L2G</td>\n",
       "      <td>3</td>\n",
       "      <td>2.890372</td>\n",
       "      <td>15.666667</td>\n",
       "    </tr>\n",
       "    <tr>\n",
       "      <th>2</th>\n",
       "      <td>NC</td>\n",
       "      <td></td>\n",
       "      <td>0</td>\n",
       "      <td>XXXX</td>\n",
       "      <td></td>\n",
       "      <td>M</td>\n",
       "      <td>R2</td>\n",
       "      <td>3.000000</td>\n",
       "      <td>U</td>\n",
       "      <td>497</td>\n",
       "      <td>546</td>\n",
       "      <td>2</td>\n",
       "      <td>1</td>\n",
       "      <td>251</td>\n",
       "      <td>292</td>\n",
       "      <td>292</td>\n",
       "      <td>340</td>\n",
       "      <td>11576</td>\n",
       "      <td></td>\n",
       "      <td>63</td>\n",
       "      <td>26</td>\n",
       "      <td>6</td>\n",
       "      <td>14</td>\n",
       "      <td>9702</td>\n",
       "      <td>L4E</td>\n",
       "      <td>27</td>\n",
       "      <td>2.484907</td>\n",
       "      <td>7.481481</td>\n",
       "    </tr>\n",
       "    <tr>\n",
       "      <th>3</th>\n",
       "      <td>CA</td>\n",
       "      <td></td>\n",
       "      <td>2801</td>\n",
       "      <td>XXXX</td>\n",
       "      <td></td>\n",
       "      <td>F</td>\n",
       "      <td>R2</td>\n",
       "      <td>1.000000</td>\n",
       "      <td>U</td>\n",
       "      <td>1000</td>\n",
       "      <td>1263</td>\n",
       "      <td>2</td>\n",
       "      <td>1</td>\n",
       "      <td>386</td>\n",
       "      <td>388</td>\n",
       "      <td>396</td>\n",
       "      <td>423</td>\n",
       "      <td>15130</td>\n",
       "      <td></td>\n",
       "      <td>66</td>\n",
       "      <td>27</td>\n",
       "      <td>6</td>\n",
       "      <td>14</td>\n",
       "      <td>9702</td>\n",
       "      <td>L4E</td>\n",
       "      <td>16</td>\n",
       "      <td>2.197225</td>\n",
       "      <td>6.812500</td>\n",
       "    </tr>\n",
       "    <tr>\n",
       "      <th>4</th>\n",
       "      <td>FL</td>\n",
       "      <td></td>\n",
       "      <td>2001</td>\n",
       "      <td>XXXX</td>\n",
       "      <td>X</td>\n",
       "      <td>F</td>\n",
       "      <td>S2</td>\n",
       "      <td>3.000000</td>\n",
       "      <td>H</td>\n",
       "      <td>576</td>\n",
       "      <td>594</td>\n",
       "      <td>4</td>\n",
       "      <td>3</td>\n",
       "      <td>240</td>\n",
       "      <td>250</td>\n",
       "      <td>293</td>\n",
       "      <td>321</td>\n",
       "      <td>9836</td>\n",
       "      <td></td>\n",
       "      <td>113</td>\n",
       "      <td>43</td>\n",
       "      <td>10</td>\n",
       "      <td>25</td>\n",
       "      <td>9702</td>\n",
       "      <td>L2F</td>\n",
       "      <td>37</td>\n",
       "      <td>2.639057</td>\n",
       "      <td>6.864865</td>\n",
       "    </tr>\n",
       "  </tbody>\n",
       "</table>\n",
       "</div>"
      ],
      "text/plain": [
       "  STATE PVASTATE   DOB MDMAUD RECP3 GENDER DOMAIN    INCOME HOMEOWNR   HV1  \\\n",
       "0    IL           3712   XXXX            F     T2  3.878257            479   \n",
       "1    CA           5202   XXXX            M     S1  6.000000        H  5468   \n",
       "2    NC              0   XXXX            M     R2  3.000000        U   497   \n",
       "3    CA           2801   XXXX            F     R2  1.000000        U  1000   \n",
       "4    FL           2001   XXXX     X      F     S2  3.000000        H   576   \n",
       "\n",
       "    HV2  HV3  HV4   IC1   IC2   IC3   IC4    IC5 VETERANS  NUMPROM  CARDPROM  \\\n",
       "0   635    3    2   307   318   349   378  12883                74        27   \n",
       "1  5218   12   10  1088  1096  1026  1037  36175                32        12   \n",
       "2   546    2    1   251   292   292   340  11576                63        26   \n",
       "3  1263    2    1   386   388   396   423  15130                66        27   \n",
       "4   594    4    3   240   250   293   321   9836               113        43   \n",
       "\n",
       "   CARDPM12  NUMPRM12  MAXADATE RFA_2  NGIFTALL   TIMELAG    AVGGIFT  \n",
       "0         6        14      9702   L4E        31  1.386294   7.741935  \n",
       "1         6        13      9702   L2G         3  2.890372  15.666667  \n",
       "2         6        14      9702   L4E        27  2.484907   7.481481  \n",
       "3         6        14      9702   L4E        16  2.197225   6.812500  \n",
       "4        10        25      9702   L2F        37  2.639057   6.864865  "
      ]
     },
     "execution_count": 59,
     "metadata": {},
     "output_type": "execute_result"
    }
   ],
   "source": [
    "data.head()"
   ]
  },
  {
   "cell_type": "code",
   "execution_count": 60,
   "metadata": {
    "scrolled": true
   },
   "outputs": [
    {
     "name": "stdout",
     "output_type": "stream",
     "text": [
      "<class 'pandas.core.frame.DataFrame'>\n",
      "RangeIndex: 90569 entries, 0 to 90568\n",
      "Data columns (total 28 columns):\n",
      " #   Column    Non-Null Count  Dtype  \n",
      "---  ------    --------------  -----  \n",
      " 0   STATE     90569 non-null  object \n",
      " 1   PVASTATE  90569 non-null  object \n",
      " 2   DOB       90569 non-null  int64  \n",
      " 3   MDMAUD    90569 non-null  object \n",
      " 4   RECP3     90569 non-null  object \n",
      " 5   GENDER    90569 non-null  object \n",
      " 6   DOMAIN    90569 non-null  object \n",
      " 7   INCOME    90569 non-null  float64\n",
      " 8   HOMEOWNR  90569 non-null  object \n",
      " 9   HV1       90569 non-null  int64  \n",
      " 10  HV2       90569 non-null  int64  \n",
      " 11  HV3       90569 non-null  int64  \n",
      " 12  HV4       90569 non-null  int64  \n",
      " 13  IC1       90569 non-null  int64  \n",
      " 14  IC2       90569 non-null  int64  \n",
      " 15  IC3       90569 non-null  int64  \n",
      " 16  IC4       90569 non-null  int64  \n",
      " 17  IC5       90569 non-null  int64  \n",
      " 18  VETERANS  90569 non-null  object \n",
      " 19  NUMPROM   90569 non-null  int64  \n",
      " 20  CARDPROM  90569 non-null  int64  \n",
      " 21  CARDPM12  90569 non-null  int64  \n",
      " 22  NUMPRM12  90569 non-null  int64  \n",
      " 23  MAXADATE  90569 non-null  int64  \n",
      " 24  RFA_2     90569 non-null  object \n",
      " 25  NGIFTALL  90569 non-null  int64  \n",
      " 26  TIMELAG   90569 non-null  float64\n",
      " 27  AVGGIFT   90569 non-null  float64\n",
      "dtypes: float64(3), int64(16), object(9)\n",
      "memory usage: 19.3+ MB\n"
     ]
    }
   ],
   "source": [
    "data.info()"
   ]
  },
  {
   "cell_type": "code",
   "execution_count": 61,
   "metadata": {},
   "outputs": [],
   "source": [
    "numericals = data.select_dtypes(np.number)"
   ]
  },
  {
   "cell_type": "code",
   "execution_count": 62,
   "metadata": {},
   "outputs": [
    {
     "data": {
      "text/html": [
       "<div>\n",
       "<style scoped>\n",
       "    .dataframe tbody tr th:only-of-type {\n",
       "        vertical-align: middle;\n",
       "    }\n",
       "\n",
       "    .dataframe tbody tr th {\n",
       "        vertical-align: top;\n",
       "    }\n",
       "\n",
       "    .dataframe thead th {\n",
       "        text-align: right;\n",
       "    }\n",
       "</style>\n",
       "<table border=\"1\" class=\"dataframe\">\n",
       "  <thead>\n",
       "    <tr style=\"text-align: right;\">\n",
       "      <th></th>\n",
       "      <th>DOB</th>\n",
       "      <th>INCOME</th>\n",
       "      <th>HV1</th>\n",
       "      <th>HV2</th>\n",
       "      <th>HV3</th>\n",
       "      <th>HV4</th>\n",
       "      <th>IC1</th>\n",
       "      <th>IC2</th>\n",
       "      <th>IC3</th>\n",
       "      <th>IC4</th>\n",
       "      <th>IC5</th>\n",
       "      <th>NUMPROM</th>\n",
       "      <th>CARDPROM</th>\n",
       "      <th>CARDPM12</th>\n",
       "      <th>NUMPRM12</th>\n",
       "      <th>MAXADATE</th>\n",
       "      <th>NGIFTALL</th>\n",
       "      <th>TIMELAG</th>\n",
       "      <th>AVGGIFT</th>\n",
       "    </tr>\n",
       "  </thead>\n",
       "  <tbody>\n",
       "    <tr>\n",
       "      <th>0</th>\n",
       "      <td>3712</td>\n",
       "      <td>3.878257</td>\n",
       "      <td>479</td>\n",
       "      <td>635</td>\n",
       "      <td>3</td>\n",
       "      <td>2</td>\n",
       "      <td>307</td>\n",
       "      <td>318</td>\n",
       "      <td>349</td>\n",
       "      <td>378</td>\n",
       "      <td>12883</td>\n",
       "      <td>74</td>\n",
       "      <td>27</td>\n",
       "      <td>6</td>\n",
       "      <td>14</td>\n",
       "      <td>9702</td>\n",
       "      <td>31</td>\n",
       "      <td>1.386294</td>\n",
       "      <td>7.741935</td>\n",
       "    </tr>\n",
       "    <tr>\n",
       "      <th>1</th>\n",
       "      <td>5202</td>\n",
       "      <td>6.000000</td>\n",
       "      <td>5468</td>\n",
       "      <td>5218</td>\n",
       "      <td>12</td>\n",
       "      <td>10</td>\n",
       "      <td>1088</td>\n",
       "      <td>1096</td>\n",
       "      <td>1026</td>\n",
       "      <td>1037</td>\n",
       "      <td>36175</td>\n",
       "      <td>32</td>\n",
       "      <td>12</td>\n",
       "      <td>6</td>\n",
       "      <td>13</td>\n",
       "      <td>9702</td>\n",
       "      <td>3</td>\n",
       "      <td>2.890372</td>\n",
       "      <td>15.666667</td>\n",
       "    </tr>\n",
       "    <tr>\n",
       "      <th>2</th>\n",
       "      <td>0</td>\n",
       "      <td>3.000000</td>\n",
       "      <td>497</td>\n",
       "      <td>546</td>\n",
       "      <td>2</td>\n",
       "      <td>1</td>\n",
       "      <td>251</td>\n",
       "      <td>292</td>\n",
       "      <td>292</td>\n",
       "      <td>340</td>\n",
       "      <td>11576</td>\n",
       "      <td>63</td>\n",
       "      <td>26</td>\n",
       "      <td>6</td>\n",
       "      <td>14</td>\n",
       "      <td>9702</td>\n",
       "      <td>27</td>\n",
       "      <td>2.484907</td>\n",
       "      <td>7.481481</td>\n",
       "    </tr>\n",
       "    <tr>\n",
       "      <th>3</th>\n",
       "      <td>2801</td>\n",
       "      <td>1.000000</td>\n",
       "      <td>1000</td>\n",
       "      <td>1263</td>\n",
       "      <td>2</td>\n",
       "      <td>1</td>\n",
       "      <td>386</td>\n",
       "      <td>388</td>\n",
       "      <td>396</td>\n",
       "      <td>423</td>\n",
       "      <td>15130</td>\n",
       "      <td>66</td>\n",
       "      <td>27</td>\n",
       "      <td>6</td>\n",
       "      <td>14</td>\n",
       "      <td>9702</td>\n",
       "      <td>16</td>\n",
       "      <td>2.197225</td>\n",
       "      <td>6.812500</td>\n",
       "    </tr>\n",
       "    <tr>\n",
       "      <th>4</th>\n",
       "      <td>2001</td>\n",
       "      <td>3.000000</td>\n",
       "      <td>576</td>\n",
       "      <td>594</td>\n",
       "      <td>4</td>\n",
       "      <td>3</td>\n",
       "      <td>240</td>\n",
       "      <td>250</td>\n",
       "      <td>293</td>\n",
       "      <td>321</td>\n",
       "      <td>9836</td>\n",
       "      <td>113</td>\n",
       "      <td>43</td>\n",
       "      <td>10</td>\n",
       "      <td>25</td>\n",
       "      <td>9702</td>\n",
       "      <td>37</td>\n",
       "      <td>2.639057</td>\n",
       "      <td>6.864865</td>\n",
       "    </tr>\n",
       "  </tbody>\n",
       "</table>\n",
       "</div>"
      ],
      "text/plain": [
       "    DOB    INCOME   HV1   HV2  HV3  HV4   IC1   IC2   IC3   IC4    IC5  \\\n",
       "0  3712  3.878257   479   635    3    2   307   318   349   378  12883   \n",
       "1  5202  6.000000  5468  5218   12   10  1088  1096  1026  1037  36175   \n",
       "2     0  3.000000   497   546    2    1   251   292   292   340  11576   \n",
       "3  2801  1.000000  1000  1263    2    1   386   388   396   423  15130   \n",
       "4  2001  3.000000   576   594    4    3   240   250   293   321   9836   \n",
       "\n",
       "   NUMPROM  CARDPROM  CARDPM12  NUMPRM12  MAXADATE  NGIFTALL   TIMELAG  \\\n",
       "0       74        27         6        14      9702        31  1.386294   \n",
       "1       32        12         6        13      9702         3  2.890372   \n",
       "2       63        26         6        14      9702        27  2.484907   \n",
       "3       66        27         6        14      9702        16  2.197225   \n",
       "4      113        43        10        25      9702        37  2.639057   \n",
       "\n",
       "     AVGGIFT  \n",
       "0   7.741935  \n",
       "1  15.666667  \n",
       "2   7.481481  \n",
       "3   6.812500  \n",
       "4   6.864865  "
      ]
     },
     "execution_count": 62,
     "metadata": {},
     "output_type": "execute_result"
    }
   ],
   "source": [
    "numericals.head()"
   ]
  },
  {
   "cell_type": "code",
   "execution_count": 63,
   "metadata": {},
   "outputs": [],
   "source": [
    "data['INCOME'] = data['INCOME'].fillna(3.0)"
   ]
  },
  {
   "cell_type": "code",
   "execution_count": 64,
   "metadata": {},
   "outputs": [],
   "source": [
    "data['TIMELAG'] = data['TIMELAG'].fillna(0.0)"
   ]
  },
  {
   "cell_type": "code",
   "execution_count": 65,
   "metadata": {},
   "outputs": [],
   "source": [
    "data = data[data['AVGGIFT']<200]"
   ]
  },
  {
   "cell_type": "code",
   "execution_count": 66,
   "metadata": {
    "scrolled": true
   },
   "outputs": [
    {
     "data": {
      "text/plain": [
       "0        3.878257\n",
       "1        6.000000\n",
       "2        3.000000\n",
       "3        1.000000\n",
       "4        3.000000\n",
       "           ...   \n",
       "90564    6.000000\n",
       "90565    3.878257\n",
       "90566    7.000000\n",
       "90567    3.878257\n",
       "90568    5.000000\n",
       "Name: INCOME, Length: 90543, dtype: float64"
      ]
     },
     "execution_count": 66,
     "metadata": {},
     "output_type": "execute_result"
    }
   ],
   "source": [
    "data.INCOME"
   ]
  },
  {
   "cell_type": "code",
   "execution_count": 67,
   "metadata": {},
   "outputs": [],
   "source": [
    "X_nulls = data[data.INCOME.isnull() ][['HV1', 'IC1']]"
   ]
  },
  {
   "cell_type": "code",
   "execution_count": 68,
   "metadata": {},
   "outputs": [],
   "source": [
    "y = data[~data.INCOME.isnull()]['INCOME']\n",
    "X = data[~data.INCOME.isnull() ][['HV1', 'IC1']]"
   ]
  },
  {
   "cell_type": "code",
   "execution_count": 69,
   "metadata": {},
   "outputs": [],
   "source": [
    "from sklearn.linear_model import LinearRegression"
   ]
  },
  {
   "cell_type": "code",
   "execution_count": 70,
   "metadata": {
    "scrolled": true
   },
   "outputs": [
    {
     "ename": "ValueError",
     "evalue": "Found array with 0 sample(s) (shape=(0, 2)) while a minimum of 1 is required.",
     "output_type": "error",
     "traceback": [
      "\u001b[1;31m---------------------------------------------------------------------------\u001b[0m",
      "\u001b[1;31mValueError\u001b[0m                                Traceback (most recent call last)",
      "\u001b[1;32m<ipython-input-70-c1ebe65706bc>\u001b[0m in \u001b[0;36m<module>\u001b[1;34m\u001b[0m\n\u001b[0;32m      1\u001b[0m \u001b[0mmodel\u001b[0m \u001b[1;33m=\u001b[0m \u001b[0mLinearRegression\u001b[0m\u001b[1;33m(\u001b[0m\u001b[1;33m)\u001b[0m\u001b[1;33m.\u001b[0m\u001b[0mfit\u001b[0m\u001b[1;33m(\u001b[0m\u001b[0mX\u001b[0m\u001b[1;33m,\u001b[0m\u001b[0my\u001b[0m\u001b[1;33m)\u001b[0m\u001b[1;33m\u001b[0m\u001b[1;33m\u001b[0m\u001b[0m\n\u001b[1;32m----> 2\u001b[1;33m \u001b[0mincome_pred\u001b[0m \u001b[1;33m=\u001b[0m \u001b[0mmodel\u001b[0m\u001b[1;33m.\u001b[0m\u001b[0mpredict\u001b[0m\u001b[1;33m(\u001b[0m\u001b[0mX_nulls\u001b[0m\u001b[1;33m)\u001b[0m\u001b[1;33m\u001b[0m\u001b[1;33m\u001b[0m\u001b[0m\n\u001b[0m",
      "\u001b[1;32m~\\anaconda3\\lib\\site-packages\\sklearn\\linear_model\\_base.py\u001b[0m in \u001b[0;36mpredict\u001b[1;34m(self, X)\u001b[0m\n\u001b[0;32m    234\u001b[0m             \u001b[0mReturns\u001b[0m \u001b[0mpredicted\u001b[0m \u001b[0mvalues\u001b[0m\u001b[1;33m.\u001b[0m\u001b[1;33m\u001b[0m\u001b[1;33m\u001b[0m\u001b[0m\n\u001b[0;32m    235\u001b[0m         \"\"\"\n\u001b[1;32m--> 236\u001b[1;33m         \u001b[1;32mreturn\u001b[0m \u001b[0mself\u001b[0m\u001b[1;33m.\u001b[0m\u001b[0m_decision_function\u001b[0m\u001b[1;33m(\u001b[0m\u001b[0mX\u001b[0m\u001b[1;33m)\u001b[0m\u001b[1;33m\u001b[0m\u001b[1;33m\u001b[0m\u001b[0m\n\u001b[0m\u001b[0;32m    237\u001b[0m \u001b[1;33m\u001b[0m\u001b[0m\n\u001b[0;32m    238\u001b[0m     \u001b[0m_preprocess_data\u001b[0m \u001b[1;33m=\u001b[0m \u001b[0mstaticmethod\u001b[0m\u001b[1;33m(\u001b[0m\u001b[0m_preprocess_data\u001b[0m\u001b[1;33m)\u001b[0m\u001b[1;33m\u001b[0m\u001b[1;33m\u001b[0m\u001b[0m\n",
      "\u001b[1;32m~\\anaconda3\\lib\\site-packages\\sklearn\\linear_model\\_base.py\u001b[0m in \u001b[0;36m_decision_function\u001b[1;34m(self, X)\u001b[0m\n\u001b[0;32m    216\u001b[0m         \u001b[0mcheck_is_fitted\u001b[0m\u001b[1;33m(\u001b[0m\u001b[0mself\u001b[0m\u001b[1;33m)\u001b[0m\u001b[1;33m\u001b[0m\u001b[1;33m\u001b[0m\u001b[0m\n\u001b[0;32m    217\u001b[0m \u001b[1;33m\u001b[0m\u001b[0m\n\u001b[1;32m--> 218\u001b[1;33m         \u001b[0mX\u001b[0m \u001b[1;33m=\u001b[0m \u001b[0mcheck_array\u001b[0m\u001b[1;33m(\u001b[0m\u001b[0mX\u001b[0m\u001b[1;33m,\u001b[0m \u001b[0maccept_sparse\u001b[0m\u001b[1;33m=\u001b[0m\u001b[1;33m[\u001b[0m\u001b[1;34m'csr'\u001b[0m\u001b[1;33m,\u001b[0m \u001b[1;34m'csc'\u001b[0m\u001b[1;33m,\u001b[0m \u001b[1;34m'coo'\u001b[0m\u001b[1;33m]\u001b[0m\u001b[1;33m)\u001b[0m\u001b[1;33m\u001b[0m\u001b[1;33m\u001b[0m\u001b[0m\n\u001b[0m\u001b[0;32m    219\u001b[0m         return safe_sparse_dot(X, self.coef_.T,\n\u001b[0;32m    220\u001b[0m                                dense_output=True) + self.intercept_\n",
      "\u001b[1;32m~\\anaconda3\\lib\\site-packages\\sklearn\\utils\\validation.py\u001b[0m in \u001b[0;36minner_f\u001b[1;34m(*args, **kwargs)\u001b[0m\n\u001b[0;32m     70\u001b[0m                           FutureWarning)\n\u001b[0;32m     71\u001b[0m         \u001b[0mkwargs\u001b[0m\u001b[1;33m.\u001b[0m\u001b[0mupdate\u001b[0m\u001b[1;33m(\u001b[0m\u001b[1;33m{\u001b[0m\u001b[0mk\u001b[0m\u001b[1;33m:\u001b[0m \u001b[0marg\u001b[0m \u001b[1;32mfor\u001b[0m \u001b[0mk\u001b[0m\u001b[1;33m,\u001b[0m \u001b[0marg\u001b[0m \u001b[1;32min\u001b[0m \u001b[0mzip\u001b[0m\u001b[1;33m(\u001b[0m\u001b[0msig\u001b[0m\u001b[1;33m.\u001b[0m\u001b[0mparameters\u001b[0m\u001b[1;33m,\u001b[0m \u001b[0margs\u001b[0m\u001b[1;33m)\u001b[0m\u001b[1;33m}\u001b[0m\u001b[1;33m)\u001b[0m\u001b[1;33m\u001b[0m\u001b[1;33m\u001b[0m\u001b[0m\n\u001b[1;32m---> 72\u001b[1;33m         \u001b[1;32mreturn\u001b[0m \u001b[0mf\u001b[0m\u001b[1;33m(\u001b[0m\u001b[1;33m**\u001b[0m\u001b[0mkwargs\u001b[0m\u001b[1;33m)\u001b[0m\u001b[1;33m\u001b[0m\u001b[1;33m\u001b[0m\u001b[0m\n\u001b[0m\u001b[0;32m     73\u001b[0m     \u001b[1;32mreturn\u001b[0m \u001b[0minner_f\u001b[0m\u001b[1;33m\u001b[0m\u001b[1;33m\u001b[0m\u001b[0m\n\u001b[0;32m     74\u001b[0m \u001b[1;33m\u001b[0m\u001b[0m\n",
      "\u001b[1;32m~\\anaconda3\\lib\\site-packages\\sklearn\\utils\\validation.py\u001b[0m in \u001b[0;36mcheck_array\u001b[1;34m(array, accept_sparse, accept_large_sparse, dtype, order, copy, force_all_finite, ensure_2d, allow_nd, ensure_min_samples, ensure_min_features, estimator)\u001b[0m\n\u001b[0;32m    648\u001b[0m         \u001b[0mn_samples\u001b[0m \u001b[1;33m=\u001b[0m \u001b[0m_num_samples\u001b[0m\u001b[1;33m(\u001b[0m\u001b[0marray\u001b[0m\u001b[1;33m)\u001b[0m\u001b[1;33m\u001b[0m\u001b[1;33m\u001b[0m\u001b[0m\n\u001b[0;32m    649\u001b[0m         \u001b[1;32mif\u001b[0m \u001b[0mn_samples\u001b[0m \u001b[1;33m<\u001b[0m \u001b[0mensure_min_samples\u001b[0m\u001b[1;33m:\u001b[0m\u001b[1;33m\u001b[0m\u001b[1;33m\u001b[0m\u001b[0m\n\u001b[1;32m--> 650\u001b[1;33m             raise ValueError(\"Found array with %d sample(s) (shape=%s) while a\"\n\u001b[0m\u001b[0;32m    651\u001b[0m                              \u001b[1;34m\" minimum of %d is required%s.\"\u001b[0m\u001b[1;33m\u001b[0m\u001b[1;33m\u001b[0m\u001b[0m\n\u001b[0;32m    652\u001b[0m                              % (n_samples, array.shape, ensure_min_samples,\n",
      "\u001b[1;31mValueError\u001b[0m: Found array with 0 sample(s) (shape=(0, 2)) while a minimum of 1 is required."
     ]
    }
   ],
   "source": [
    "model = LinearRegression().fit(X,y)\n",
    "income_pred = model.predict(X_nulls)"
   ]
  },
  {
   "cell_type": "code",
   "execution_count": null,
   "metadata": {},
   "outputs": [],
   "source": []
  },
  {
   "cell_type": "code",
   "execution_count": null,
   "metadata": {},
   "outputs": [],
   "source": [
    "data[data.INCOME.isnull() ]['INCOME'] = np.round(income_pred)"
   ]
  },
  {
   "cell_type": "code",
   "execution_count": null,
   "metadata": {
    "scrolled": true
   },
   "outputs": [],
   "source": [
    "data_corr = data[['INCOME', 'HV1', 'HV2', 'IC1', 'IC2', 'IC3', 'IC4', 'NUMPROM', 'CARDPROM', 'NGIFTALL', 'TIMELAG', 'AVGGIFT']]\n",
    "corr_matrix=data_corr.corr(method='pearson')\n",
    "fig, ax = plt.subplots(figsize=(10, 8))\n",
    "ax = sns.heatmap(corr_matrix, annot=True)\n",
    "plt.show()"
   ]
  },
  {
   "cell_type": "code",
   "execution_count": null,
   "metadata": {
    "scrolled": true
   },
   "outputs": [],
   "source": [
    "sns.regplot('IC1','IC2', data=data_corr)"
   ]
  },
  {
   "cell_type": "code",
   "execution_count": null,
   "metadata": {},
   "outputs": [],
   "source": [
    "model = LinearRegression().fit(data_corr[['HV1']], data_corr[['HV2']])\n",
    "model.score(data_corr[['HV1']], data_corr[['HV2']])"
   ]
  },
  {
   "cell_type": "code",
   "execution_count": null,
   "metadata": {},
   "outputs": [],
   "source": [
    "model = LinearRegression().fit(data_corr[['IC1']], data_corr[['IC2']])\n",
    "model.score(data_corr[['IC1']], data_corr[['IC2']])"
   ]
  },
  {
   "cell_type": "code",
   "execution_count": null,
   "metadata": {
    "scrolled": true
   },
   "outputs": [],
   "source": [
    "sns.regplot('HV1','HV2', data=data_corr)"
   ]
  },
  {
   "cell_type": "code",
   "execution_count": null,
   "metadata": {},
   "outputs": [],
   "source": [
    "from statsmodels.stats.outliers_influence import variance_inflation_factor\n",
    "\n",
    "# This is the code to show how to use the __variance_inflation_factor__ function\n",
    "vif = {}\n",
    "for i in np.arange(data_corr.shape[1]):\n",
    "    column_name = data_corr.columns[i]\n",
    "    value = variance_inflation_factor(np.array(data_corr), i)\n",
    "    vif[column_name] = value\n"
   ]
  },
  {
   "cell_type": "code",
   "execution_count": null,
   "metadata": {},
   "outputs": [],
   "source": [
    "vif"
   ]
  },
  {
   "cell_type": "code",
   "execution_count": null,
   "metadata": {},
   "outputs": [],
   "source": [
    "[variance_inflation_factor(np.array(data_corr), i) for i in np.arange(data_corr.shape[1])]"
   ]
  },
  {
   "cell_type": "code",
   "execution_count": null,
   "metadata": {},
   "outputs": [],
   "source": [
    "flag = True\n",
    "threshold = 50\n",
    "while flag is True:\n",
    "    #print(data_corr.head())\n",
    "    flag = False\n",
    "    values = [variance_inflation_factor(np.array(data_corr), i) for i in np.arange(data_corr.shape[1])]\n",
    "    #print(values)\n",
    "    if max(values)> threshold:\n",
    "        col_index = values.index(max(values))\n",
    "        column_name = data_corr.columns[col_index]\n",
    "        data_corr = data_corr.drop([column_name], axis=1)\n",
    "        flag = True"
   ]
  },
  {
   "cell_type": "code",
   "execution_count": null,
   "metadata": {},
   "outputs": [],
   "source": [
    "[variance_inflation_factor(np.array(data_corr), i) for i in np.arange(data_corr.shape[1])]"
   ]
  },
  {
   "cell_type": "code",
   "execution_count": null,
   "metadata": {},
   "outputs": [],
   "source": [
    "flag= True\n",
    "while flag is True:\n",
    "    flag = False\n",
    "    for i in range(1, corr_matrix.shape[1]):\n",
    "        if corr_matrix.iloc[i,range(i)].max() > 0.9:\n",
    "            print(corr_matrix.columns[corr_matrix.iloc[i,range(i)].argmax()])\n",
    "            col_name = corr_matrix.columns[corr_matrix.iloc[i,range(i)].argmax()]\n",
    "            corr_matrix.drop([col_name], axis=1, inplace=True)\n",
    "            corr_matrix.drop([col_name], inplace=True)\n",
    "            display(corr_matrix)\n",
    "            flag = True\n",
    "            break"
   ]
  },
  {
   "cell_type": "code",
   "execution_count": null,
   "metadata": {},
   "outputs": [],
   "source": [
    "corr_matrix"
   ]
  },
  {
   "cell_type": "code",
   "execution_count": null,
   "metadata": {},
   "outputs": [],
   "source": [
    "for i in range(1, corr_matrix.shape[1]):\n",
    "    corr_matrix[i,]"
   ]
  },
  {
   "cell_type": "code",
   "execution_count": null,
   "metadata": {},
   "outputs": [],
   "source": [
    "flag = True\n",
    "threshold = 50\n",
    "while flag is True:\n",
    "    #print(data_corr.head())\n",
    "    flag = False\n",
    "    values = [variance_inflation_factor(np.array(data_corr), i) for i in np.arange(data_corr.shape[1])]\n",
    "    #print(values)\n",
    "    if max(values)> threshold:\n",
    "        col_index = values.index(max(values))\n",
    "        column_name = data_corr.columns[col_index]\n",
    "        data_corr = data_corr.drop([column_name], axis=1)\n",
    "        flag = True"
   ]
  },
  {
   "cell_type": "code",
   "execution_count": null,
   "metadata": {},
   "outputs": [],
   "source": [
    "data_corr.columns"
   ]
  },
  {
   "cell_type": "code",
   "execution_count": null,
   "metadata": {
    "scrolled": true
   },
   "outputs": [],
   "source": [
    "corr_matrix=data_corr.corr(method='pearson')\n",
    "fig, ax = plt.subplots(figsize=(10, 8))\n",
    "ax = sns.heatmap(corr_matrix, annot=True)\n",
    "plt.show()"
   ]
  },
  {
   "cell_type": "markdown",
   "metadata": {},
   "source": [
    "## Addressing categorical variables"
   ]
  },
  {
   "cell_type": "code",
   "execution_count": 71,
   "metadata": {},
   "outputs": [],
   "source": [
    "categoricals = data.select_dtypes(np.object)"
   ]
  },
  {
   "cell_type": "code",
   "execution_count": 81,
   "metadata": {},
   "outputs": [
    {
     "data": {
      "text/html": [
       "<div>\n",
       "<style scoped>\n",
       "    .dataframe tbody tr th:only-of-type {\n",
       "        vertical-align: middle;\n",
       "    }\n",
       "\n",
       "    .dataframe tbody tr th {\n",
       "        vertical-align: top;\n",
       "    }\n",
       "\n",
       "    .dataframe thead th {\n",
       "        text-align: right;\n",
       "    }\n",
       "</style>\n",
       "<table border=\"1\" class=\"dataframe\">\n",
       "  <thead>\n",
       "    <tr style=\"text-align: right;\">\n",
       "      <th></th>\n",
       "      <th>STATE</th>\n",
       "      <th>PVASTATE</th>\n",
       "      <th>MDMAUD</th>\n",
       "      <th>RECP3</th>\n",
       "      <th>GENDER</th>\n",
       "      <th>DOMAIN</th>\n",
       "      <th>HOMEOWNR</th>\n",
       "      <th>VETERANS</th>\n",
       "      <th>RFA_2</th>\n",
       "    </tr>\n",
       "  </thead>\n",
       "  <tbody>\n",
       "    <tr>\n",
       "      <th>0</th>\n",
       "      <td>IL</td>\n",
       "      <td></td>\n",
       "      <td>XXXX</td>\n",
       "      <td></td>\n",
       "      <td>F</td>\n",
       "      <td>T2</td>\n",
       "      <td></td>\n",
       "      <td></td>\n",
       "      <td>L4E</td>\n",
       "    </tr>\n",
       "    <tr>\n",
       "      <th>1</th>\n",
       "      <td>CA</td>\n",
       "      <td></td>\n",
       "      <td>XXXX</td>\n",
       "      <td></td>\n",
       "      <td>M</td>\n",
       "      <td>S1</td>\n",
       "      <td>H</td>\n",
       "      <td></td>\n",
       "      <td>L2G</td>\n",
       "    </tr>\n",
       "    <tr>\n",
       "      <th>2</th>\n",
       "      <td>NC</td>\n",
       "      <td></td>\n",
       "      <td>XXXX</td>\n",
       "      <td></td>\n",
       "      <td>M</td>\n",
       "      <td>R2</td>\n",
       "      <td>U</td>\n",
       "      <td></td>\n",
       "      <td>L4E</td>\n",
       "    </tr>\n",
       "    <tr>\n",
       "      <th>3</th>\n",
       "      <td>CA</td>\n",
       "      <td></td>\n",
       "      <td>XXXX</td>\n",
       "      <td></td>\n",
       "      <td>F</td>\n",
       "      <td>R2</td>\n",
       "      <td>U</td>\n",
       "      <td></td>\n",
       "      <td>L4E</td>\n",
       "    </tr>\n",
       "    <tr>\n",
       "      <th>4</th>\n",
       "      <td>FL</td>\n",
       "      <td></td>\n",
       "      <td>XXXX</td>\n",
       "      <td>X</td>\n",
       "      <td>F</td>\n",
       "      <td>S2</td>\n",
       "      <td>H</td>\n",
       "      <td></td>\n",
       "      <td>L2F</td>\n",
       "    </tr>\n",
       "  </tbody>\n",
       "</table>\n",
       "</div>"
      ],
      "text/plain": [
       "  STATE PVASTATE MDMAUD RECP3 GENDER DOMAIN HOMEOWNR VETERANS RFA_2\n",
       "0    IL            XXXX            F     T2                     L4E\n",
       "1    CA            XXXX            M     S1        H            L2G\n",
       "2    NC            XXXX            M     R2        U            L4E\n",
       "3    CA            XXXX            F     R2        U            L4E\n",
       "4    FL            XXXX     X      F     S2        H            L2F"
      ]
     },
     "execution_count": 81,
     "metadata": {},
     "output_type": "execute_result"
    }
   ],
   "source": [
    "categoricals.head()"
   ]
  },
  {
   "cell_type": "markdown",
   "metadata": {},
   "source": [
    "### Finding correlations in categorical data (chi-square)"
   ]
  },
  {
   "cell_type": "code",
   "execution_count": 83,
   "metadata": {
    "scrolled": true
   },
   "outputs": [
    {
     "ename": "KeyError",
     "evalue": "'RFA_2'",
     "output_type": "error",
     "traceback": [
      "\u001b[1;31m---------------------------------------------------------------------------\u001b[0m",
      "\u001b[1;31mKeyError\u001b[0m                                  Traceback (most recent call last)",
      "\u001b[1;32m~\\anaconda3\\lib\\site-packages\\pandas\\core\\indexes\\base.py\u001b[0m in \u001b[0;36mget_loc\u001b[1;34m(self, key, method, tolerance)\u001b[0m\n\u001b[0;32m   2894\u001b[0m             \u001b[1;32mtry\u001b[0m\u001b[1;33m:\u001b[0m\u001b[1;33m\u001b[0m\u001b[1;33m\u001b[0m\u001b[0m\n\u001b[1;32m-> 2895\u001b[1;33m                 \u001b[1;32mreturn\u001b[0m \u001b[0mself\u001b[0m\u001b[1;33m.\u001b[0m\u001b[0m_engine\u001b[0m\u001b[1;33m.\u001b[0m\u001b[0mget_loc\u001b[0m\u001b[1;33m(\u001b[0m\u001b[0mcasted_key\u001b[0m\u001b[1;33m)\u001b[0m\u001b[1;33m\u001b[0m\u001b[1;33m\u001b[0m\u001b[0m\n\u001b[0m\u001b[0;32m   2896\u001b[0m             \u001b[1;32mexcept\u001b[0m \u001b[0mKeyError\u001b[0m \u001b[1;32mas\u001b[0m \u001b[0merr\u001b[0m\u001b[1;33m:\u001b[0m\u001b[1;33m\u001b[0m\u001b[1;33m\u001b[0m\u001b[0m\n",
      "\u001b[1;32mpandas\\_libs\\index.pyx\u001b[0m in \u001b[0;36mpandas._libs.index.IndexEngine.get_loc\u001b[1;34m()\u001b[0m\n",
      "\u001b[1;32mpandas\\_libs\\index.pyx\u001b[0m in \u001b[0;36mpandas._libs.index.IndexEngine.get_loc\u001b[1;34m()\u001b[0m\n",
      "\u001b[1;32mpandas\\_libs\\hashtable_class_helper.pxi\u001b[0m in \u001b[0;36mpandas._libs.hashtable.PyObjectHashTable.get_item\u001b[1;34m()\u001b[0m\n",
      "\u001b[1;32mpandas\\_libs\\hashtable_class_helper.pxi\u001b[0m in \u001b[0;36mpandas._libs.hashtable.PyObjectHashTable.get_item\u001b[1;34m()\u001b[0m\n",
      "\u001b[1;31mKeyError\u001b[0m: 'RFA_2'",
      "\nThe above exception was the direct cause of the following exception:\n",
      "\u001b[1;31mKeyError\u001b[0m                                  Traceback (most recent call last)",
      "\u001b[1;32m<ipython-input-83-c2cc3d27d366>\u001b[0m in \u001b[0;36m<module>\u001b[1;34m\u001b[0m\n\u001b[1;32m----> 1\u001b[1;33m \u001b[0mdata_crosstab\u001b[0m \u001b[1;33m=\u001b[0m \u001b[0mpd\u001b[0m\u001b[1;33m.\u001b[0m\u001b[0mcrosstab\u001b[0m\u001b[1;33m(\u001b[0m\u001b[0mdata\u001b[0m\u001b[1;33m[\u001b[0m\u001b[1;34m'DOMAIN'\u001b[0m\u001b[1;33m]\u001b[0m\u001b[1;33m,\u001b[0m \u001b[0mdata\u001b[0m\u001b[1;33m[\u001b[0m\u001b[1;34m'RFA_2'\u001b[0m\u001b[1;33m]\u001b[0m\u001b[1;33m,\u001b[0m \u001b[0mmargins\u001b[0m \u001b[1;33m=\u001b[0m \u001b[1;32mFalse\u001b[0m\u001b[1;33m)\u001b[0m\u001b[1;33m\u001b[0m\u001b[1;33m\u001b[0m\u001b[0m\n\u001b[0m\u001b[0;32m      2\u001b[0m \u001b[0mdata_crosstab\u001b[0m\u001b[1;33m\u001b[0m\u001b[1;33m\u001b[0m\u001b[0m\n",
      "\u001b[1;32m~\\anaconda3\\lib\\site-packages\\pandas\\core\\frame.py\u001b[0m in \u001b[0;36m__getitem__\u001b[1;34m(self, key)\u001b[0m\n\u001b[0;32m   2900\u001b[0m             \u001b[1;32mif\u001b[0m \u001b[0mself\u001b[0m\u001b[1;33m.\u001b[0m\u001b[0mcolumns\u001b[0m\u001b[1;33m.\u001b[0m\u001b[0mnlevels\u001b[0m \u001b[1;33m>\u001b[0m \u001b[1;36m1\u001b[0m\u001b[1;33m:\u001b[0m\u001b[1;33m\u001b[0m\u001b[1;33m\u001b[0m\u001b[0m\n\u001b[0;32m   2901\u001b[0m                 \u001b[1;32mreturn\u001b[0m \u001b[0mself\u001b[0m\u001b[1;33m.\u001b[0m\u001b[0m_getitem_multilevel\u001b[0m\u001b[1;33m(\u001b[0m\u001b[0mkey\u001b[0m\u001b[1;33m)\u001b[0m\u001b[1;33m\u001b[0m\u001b[1;33m\u001b[0m\u001b[0m\n\u001b[1;32m-> 2902\u001b[1;33m             \u001b[0mindexer\u001b[0m \u001b[1;33m=\u001b[0m \u001b[0mself\u001b[0m\u001b[1;33m.\u001b[0m\u001b[0mcolumns\u001b[0m\u001b[1;33m.\u001b[0m\u001b[0mget_loc\u001b[0m\u001b[1;33m(\u001b[0m\u001b[0mkey\u001b[0m\u001b[1;33m)\u001b[0m\u001b[1;33m\u001b[0m\u001b[1;33m\u001b[0m\u001b[0m\n\u001b[0m\u001b[0;32m   2903\u001b[0m             \u001b[1;32mif\u001b[0m \u001b[0mis_integer\u001b[0m\u001b[1;33m(\u001b[0m\u001b[0mindexer\u001b[0m\u001b[1;33m)\u001b[0m\u001b[1;33m:\u001b[0m\u001b[1;33m\u001b[0m\u001b[1;33m\u001b[0m\u001b[0m\n\u001b[0;32m   2904\u001b[0m                 \u001b[0mindexer\u001b[0m \u001b[1;33m=\u001b[0m \u001b[1;33m[\u001b[0m\u001b[0mindexer\u001b[0m\u001b[1;33m]\u001b[0m\u001b[1;33m\u001b[0m\u001b[1;33m\u001b[0m\u001b[0m\n",
      "\u001b[1;32m~\\anaconda3\\lib\\site-packages\\pandas\\core\\indexes\\base.py\u001b[0m in \u001b[0;36mget_loc\u001b[1;34m(self, key, method, tolerance)\u001b[0m\n\u001b[0;32m   2895\u001b[0m                 \u001b[1;32mreturn\u001b[0m \u001b[0mself\u001b[0m\u001b[1;33m.\u001b[0m\u001b[0m_engine\u001b[0m\u001b[1;33m.\u001b[0m\u001b[0mget_loc\u001b[0m\u001b[1;33m(\u001b[0m\u001b[0mcasted_key\u001b[0m\u001b[1;33m)\u001b[0m\u001b[1;33m\u001b[0m\u001b[1;33m\u001b[0m\u001b[0m\n\u001b[0;32m   2896\u001b[0m             \u001b[1;32mexcept\u001b[0m \u001b[0mKeyError\u001b[0m \u001b[1;32mas\u001b[0m \u001b[0merr\u001b[0m\u001b[1;33m:\u001b[0m\u001b[1;33m\u001b[0m\u001b[1;33m\u001b[0m\u001b[0m\n\u001b[1;32m-> 2897\u001b[1;33m                 \u001b[1;32mraise\u001b[0m \u001b[0mKeyError\u001b[0m\u001b[1;33m(\u001b[0m\u001b[0mkey\u001b[0m\u001b[1;33m)\u001b[0m \u001b[1;32mfrom\u001b[0m \u001b[0merr\u001b[0m\u001b[1;33m\u001b[0m\u001b[1;33m\u001b[0m\u001b[0m\n\u001b[0m\u001b[0;32m   2898\u001b[0m \u001b[1;33m\u001b[0m\u001b[0m\n\u001b[0;32m   2899\u001b[0m         \u001b[1;32mif\u001b[0m \u001b[0mtolerance\u001b[0m \u001b[1;32mis\u001b[0m \u001b[1;32mnot\u001b[0m \u001b[1;32mNone\u001b[0m\u001b[1;33m:\u001b[0m\u001b[1;33m\u001b[0m\u001b[1;33m\u001b[0m\u001b[0m\n",
      "\u001b[1;31mKeyError\u001b[0m: 'RFA_2'"
     ]
    }
   ],
   "source": [
    "data_crosstab = pd.crosstab(data['DOMAIN'], data['RFA_2'], margins = False) \n",
    "data_crosstab"
   ]
  },
  {
   "cell_type": "code",
   "execution_count": 74,
   "metadata": {
    "scrolled": true
   },
   "outputs": [
    {
     "data": {
      "text/plain": [
       "(1393.9427974751684,\n",
       " 1.6529980451212455e-162,\n",
       " 238,\n",
       " array([[1.11621616e+02, 6.98699645e+02, 2.86780955e+02, 1.11980451e+02,\n",
       "         2.48744442e+02, 1.05401809e+02, 5.42319340e+01, 1.73293397e+02,\n",
       "         8.01876677e+01, 3.40414831e+01, 1.06430470e+02, 8.72447566e+01,\n",
       "         4.66724761e+01, 2.06688977e+01, 2.16600000e+03],\n",
       "        [2.98482180e+02, 1.86836027e+03, 7.66867632e+02, 2.99441724e+02,\n",
       "         6.65155959e+02, 2.81850082e+02, 1.45019096e+02, 4.63395823e+02,\n",
       "         2.14426118e+02, 9.10287488e+01, 2.84600775e+02, 2.33297152e+02,\n",
       "         1.24804701e+02, 5.52697392e+01, 5.79200000e+03],\n",
       "        [4.03610572e+02, 2.52641534e+03, 1.03696604e+03, 4.04908077e+02,\n",
       "         8.99430503e+02, 3.81120484e+02, 1.96096264e+02, 6.26608440e+02,\n",
       "         2.89949129e+02, 1.23089979e+02, 3.84839999e+02, 3.15466729e+02,\n",
       "         1.68762157e+02, 7.47362910e+01, 7.83200000e+03],\n",
       "        [2.60501971e+02, 1.63062175e+03, 6.69287963e+02, 2.61339419e+02,\n",
       "         5.80518538e+02, 2.45986216e+02, 1.26566217e+02, 4.04431265e+02,\n",
       "         1.87141579e+02, 7.94458434e+01, 2.48386899e+02, 2.03611378e+02,\n",
       "         1.08923992e+02, 4.82369703e+01, 5.05500000e+03],\n",
       "        [6.62205803e+01, 4.14510177e+02, 1.70135516e+02, 6.64334626e+01,\n",
       "         1.47569994e+02, 6.25306208e+01, 3.21736081e+01, 1.02807948e+02,\n",
       "         4.75720928e+01, 2.01954320e+01, 6.31408833e+01, 5.17587776e+01,\n",
       "         2.76888882e+01, 1.22620192e+01, 1.28500000e+03],\n",
       "        [6.70193499e+02, 4.19510106e+03, 1.72187734e+03, 6.72348000e+02,\n",
       "         1.49350022e+03, 6.32848812e+02, 3.25616944e+02, 1.04048043e+03,\n",
       "         4.81459196e+02, 2.04390345e+02, 6.39025049e+02, 5.23831053e+02,\n",
       "         2.80228786e+02, 1.24099268e+02, 1.30050000e+04],\n",
       "        [2.35611279e+02, 1.47481753e+03, 6.05338193e+02, 2.36368709e+02,\n",
       "         5.25050595e+02, 2.22482489e+02, 1.14472947e+02, 3.65788277e+02,\n",
       "         1.69260396e+02, 7.18548756e+01, 2.24653789e+02, 1.84156522e+02,\n",
       "         9.85164176e+01, 4.36279779e+01, 4.57200000e+03],\n",
       "        [5.59757154e+02, 3.50382066e+03, 1.43814161e+03, 5.61556631e+02,\n",
       "         1.24739710e+03, 5.28566228e+02, 2.71960880e+02, 8.69027180e+02,\n",
       "         4.02123013e+02, 1.70710337e+02, 5.33724727e+02, 4.37512718e+02,\n",
       "         2.34051909e+02, 1.03649846e+02, 1.08620000e+04],\n",
       "        [4.14947947e+02, 2.59738206e+03, 1.06609430e+03, 4.16281899e+02,\n",
       "         9.24695404e+02, 3.91826116e+02, 2.01604586e+02, 6.44209801e+02,\n",
       "         2.98093768e+02, 1.26547563e+02, 3.95650111e+02, 3.24328153e+02,\n",
       "         1.73502667e+02, 7.68356251e+01, 8.05200000e+03],\n",
       "        [9.36364158e+01, 5.86120617e+02, 2.40572943e+02, 9.39374330e+01,\n",
       "         2.08665120e+02, 8.84187844e+01, 4.54937323e+01, 1.45371238e+02,\n",
       "         6.72673095e+01, 2.85564980e+01, 8.92817004e+01, 7.31873143e+01,\n",
       "         3.91523033e+01, 1.73385905e+01, 1.81700000e+03],\n",
       "        [2.42671372e+02, 1.51901045e+03, 6.23477155e+02, 2.43451498e+02,\n",
       "         5.40783738e+02, 2.29149178e+02, 1.17903129e+02, 3.76749125e+02,\n",
       "         1.74332284e+02, 7.40080072e+01, 2.31385541e+02, 1.89674773e+02,\n",
       "         1.01468462e+02, 4.49352904e+01, 4.70900000e+03],\n",
       "        [6.03818318e+02, 3.77962315e+03, 1.55134462e+03, 6.05759440e+02,\n",
       "         1.34558570e+03, 5.70172205e+02, 2.93368223e+02, 9.37432469e+02,\n",
       "         4.33776040e+02, 1.84147764e+02, 5.75736755e+02, 4.71951437e+02,\n",
       "         2.52475255e+02, 1.11808621e+02, 1.17170000e+04],\n",
       "        [1.07808135e+02, 6.74829020e+02, 2.76983268e+02, 1.08154711e+02,\n",
       "         2.40246248e+02, 1.01800824e+02, 5.23791348e+01, 1.67372939e+02,\n",
       "         7.74481075e+01, 3.28784776e+01, 1.02794341e+02, 8.42640955e+01,\n",
       "         4.50779409e+01, 1.99627580e+01, 2.09200000e+03],\n",
       "        [2.19429752e+02, 1.37352867e+03, 5.63764223e+02, 2.20135162e+02,\n",
       "         4.88990690e+02, 2.07202633e+02, 1.06611069e+02, 3.40666335e+02,\n",
       "         1.57635775e+02, 6.69199607e+01, 2.09224810e+02, 1.71508852e+02,\n",
       "         9.17504169e+01, 4.06316557e+01, 4.25800000e+03],\n",
       "        [1.60320798e+02, 1.00353398e+03, 4.11900070e+02, 1.60836188e+02,\n",
       "         3.57268679e+02, 1.51387363e+02, 7.78926808e+01, 2.48899241e+02,\n",
       "         1.15172592e+02, 4.88933766e+01, 1.52864816e+02, 1.25308605e+02,\n",
       "         6.70351214e+01, 2.96864915e+01, 3.11100000e+03],\n",
       "        [1.27957744e+02, 8.00956242e+02, 3.28752129e+02, 1.28369095e+02,\n",
       "         2.85148868e+02, 1.20827651e+02, 6.21689253e+01, 1.98655357e+02,\n",
       "         9.19233513e+01, 3.90235468e+01, 1.22006859e+02, 1.00013264e+02,\n",
       "         5.35031201e+01, 2.36938471e+01, 2.48300000e+03],\n",
       "        [8.94106668e+01, 5.59669384e+02, 2.29716047e+02, 8.96980992e+01,\n",
       "         1.99248203e+02, 8.44285036e+01, 4.34406304e+01, 1.38810731e+02,\n",
       "         6.42315806e+01, 2.72677623e+01, 8.52524767e+01, 6.98844196e+01,\n",
       "         3.73853859e+01, 1.65561115e+01, 1.73500000e+03],\n",
       "        [4.66600000e+03, 2.92070000e+04, 1.19880000e+04, 4.68100000e+03,\n",
       "         1.03980000e+04, 4.40600000e+03, 2.26700000e+03, 7.24400000e+03,\n",
       "         3.35200000e+03, 1.42300000e+03, 4.44900000e+03, 3.64700000e+03,\n",
       "         1.95100000e+03, 8.64000000e+02, 9.05430000e+04]]))"
      ]
     },
     "execution_count": 74,
     "metadata": {},
     "output_type": "execute_result"
    }
   ],
   "source": [
    "from scipy.stats import chi2_contingency\n",
    "g, p, dof, expctd = chi2_contingency(data_crosstab, correction=False)\n",
    "g, p, dof, expctd"
   ]
  },
  {
   "cell_type": "code",
   "execution_count": 75,
   "metadata": {},
   "outputs": [],
   "source": [
    "data = data.drop(['RFA_2'], axis=1)"
   ]
  },
  {
   "cell_type": "code",
   "execution_count": 76,
   "metadata": {
    "scrolled": true
   },
   "outputs": [
    {
     "data": {
      "text/plain": [
       "(1393.9427974751684,\n",
       " 1.6529980451212455e-162,\n",
       " 238,\n",
       " array([[1.11621616e+02, 6.98699645e+02, 2.86780955e+02, 1.11980451e+02,\n",
       "         2.48744442e+02, 1.05401809e+02, 5.42319340e+01, 1.73293397e+02,\n",
       "         8.01876677e+01, 3.40414831e+01, 1.06430470e+02, 8.72447566e+01,\n",
       "         4.66724761e+01, 2.06688977e+01, 2.16600000e+03],\n",
       "        [2.98482180e+02, 1.86836027e+03, 7.66867632e+02, 2.99441724e+02,\n",
       "         6.65155959e+02, 2.81850082e+02, 1.45019096e+02, 4.63395823e+02,\n",
       "         2.14426118e+02, 9.10287488e+01, 2.84600775e+02, 2.33297152e+02,\n",
       "         1.24804701e+02, 5.52697392e+01, 5.79200000e+03],\n",
       "        [4.03610572e+02, 2.52641534e+03, 1.03696604e+03, 4.04908077e+02,\n",
       "         8.99430503e+02, 3.81120484e+02, 1.96096264e+02, 6.26608440e+02,\n",
       "         2.89949129e+02, 1.23089979e+02, 3.84839999e+02, 3.15466729e+02,\n",
       "         1.68762157e+02, 7.47362910e+01, 7.83200000e+03],\n",
       "        [2.60501971e+02, 1.63062175e+03, 6.69287963e+02, 2.61339419e+02,\n",
       "         5.80518538e+02, 2.45986216e+02, 1.26566217e+02, 4.04431265e+02,\n",
       "         1.87141579e+02, 7.94458434e+01, 2.48386899e+02, 2.03611378e+02,\n",
       "         1.08923992e+02, 4.82369703e+01, 5.05500000e+03],\n",
       "        [6.62205803e+01, 4.14510177e+02, 1.70135516e+02, 6.64334626e+01,\n",
       "         1.47569994e+02, 6.25306208e+01, 3.21736081e+01, 1.02807948e+02,\n",
       "         4.75720928e+01, 2.01954320e+01, 6.31408833e+01, 5.17587776e+01,\n",
       "         2.76888882e+01, 1.22620192e+01, 1.28500000e+03],\n",
       "        [6.70193499e+02, 4.19510106e+03, 1.72187734e+03, 6.72348000e+02,\n",
       "         1.49350022e+03, 6.32848812e+02, 3.25616944e+02, 1.04048043e+03,\n",
       "         4.81459196e+02, 2.04390345e+02, 6.39025049e+02, 5.23831053e+02,\n",
       "         2.80228786e+02, 1.24099268e+02, 1.30050000e+04],\n",
       "        [2.35611279e+02, 1.47481753e+03, 6.05338193e+02, 2.36368709e+02,\n",
       "         5.25050595e+02, 2.22482489e+02, 1.14472947e+02, 3.65788277e+02,\n",
       "         1.69260396e+02, 7.18548756e+01, 2.24653789e+02, 1.84156522e+02,\n",
       "         9.85164176e+01, 4.36279779e+01, 4.57200000e+03],\n",
       "        [5.59757154e+02, 3.50382066e+03, 1.43814161e+03, 5.61556631e+02,\n",
       "         1.24739710e+03, 5.28566228e+02, 2.71960880e+02, 8.69027180e+02,\n",
       "         4.02123013e+02, 1.70710337e+02, 5.33724727e+02, 4.37512718e+02,\n",
       "         2.34051909e+02, 1.03649846e+02, 1.08620000e+04],\n",
       "        [4.14947947e+02, 2.59738206e+03, 1.06609430e+03, 4.16281899e+02,\n",
       "         9.24695404e+02, 3.91826116e+02, 2.01604586e+02, 6.44209801e+02,\n",
       "         2.98093768e+02, 1.26547563e+02, 3.95650111e+02, 3.24328153e+02,\n",
       "         1.73502667e+02, 7.68356251e+01, 8.05200000e+03],\n",
       "        [9.36364158e+01, 5.86120617e+02, 2.40572943e+02, 9.39374330e+01,\n",
       "         2.08665120e+02, 8.84187844e+01, 4.54937323e+01, 1.45371238e+02,\n",
       "         6.72673095e+01, 2.85564980e+01, 8.92817004e+01, 7.31873143e+01,\n",
       "         3.91523033e+01, 1.73385905e+01, 1.81700000e+03],\n",
       "        [2.42671372e+02, 1.51901045e+03, 6.23477155e+02, 2.43451498e+02,\n",
       "         5.40783738e+02, 2.29149178e+02, 1.17903129e+02, 3.76749125e+02,\n",
       "         1.74332284e+02, 7.40080072e+01, 2.31385541e+02, 1.89674773e+02,\n",
       "         1.01468462e+02, 4.49352904e+01, 4.70900000e+03],\n",
       "        [6.03818318e+02, 3.77962315e+03, 1.55134462e+03, 6.05759440e+02,\n",
       "         1.34558570e+03, 5.70172205e+02, 2.93368223e+02, 9.37432469e+02,\n",
       "         4.33776040e+02, 1.84147764e+02, 5.75736755e+02, 4.71951437e+02,\n",
       "         2.52475255e+02, 1.11808621e+02, 1.17170000e+04],\n",
       "        [1.07808135e+02, 6.74829020e+02, 2.76983268e+02, 1.08154711e+02,\n",
       "         2.40246248e+02, 1.01800824e+02, 5.23791348e+01, 1.67372939e+02,\n",
       "         7.74481075e+01, 3.28784776e+01, 1.02794341e+02, 8.42640955e+01,\n",
       "         4.50779409e+01, 1.99627580e+01, 2.09200000e+03],\n",
       "        [2.19429752e+02, 1.37352867e+03, 5.63764223e+02, 2.20135162e+02,\n",
       "         4.88990690e+02, 2.07202633e+02, 1.06611069e+02, 3.40666335e+02,\n",
       "         1.57635775e+02, 6.69199607e+01, 2.09224810e+02, 1.71508852e+02,\n",
       "         9.17504169e+01, 4.06316557e+01, 4.25800000e+03],\n",
       "        [1.60320798e+02, 1.00353398e+03, 4.11900070e+02, 1.60836188e+02,\n",
       "         3.57268679e+02, 1.51387363e+02, 7.78926808e+01, 2.48899241e+02,\n",
       "         1.15172592e+02, 4.88933766e+01, 1.52864816e+02, 1.25308605e+02,\n",
       "         6.70351214e+01, 2.96864915e+01, 3.11100000e+03],\n",
       "        [1.27957744e+02, 8.00956242e+02, 3.28752129e+02, 1.28369095e+02,\n",
       "         2.85148868e+02, 1.20827651e+02, 6.21689253e+01, 1.98655357e+02,\n",
       "         9.19233513e+01, 3.90235468e+01, 1.22006859e+02, 1.00013264e+02,\n",
       "         5.35031201e+01, 2.36938471e+01, 2.48300000e+03],\n",
       "        [8.94106668e+01, 5.59669384e+02, 2.29716047e+02, 8.96980992e+01,\n",
       "         1.99248203e+02, 8.44285036e+01, 4.34406304e+01, 1.38810731e+02,\n",
       "         6.42315806e+01, 2.72677623e+01, 8.52524767e+01, 6.98844196e+01,\n",
       "         3.73853859e+01, 1.65561115e+01, 1.73500000e+03],\n",
       "        [4.66600000e+03, 2.92070000e+04, 1.19880000e+04, 4.68100000e+03,\n",
       "         1.03980000e+04, 4.40600000e+03, 2.26700000e+03, 7.24400000e+03,\n",
       "         3.35200000e+03, 1.42300000e+03, 4.44900000e+03, 3.64700000e+03,\n",
       "         1.95100000e+03, 8.64000000e+02, 9.05430000e+04]]))"
      ]
     },
     "execution_count": 76,
     "metadata": {},
     "output_type": "execute_result"
    }
   ],
   "source": [
    "data_crosstab2 = pd.crosstab(data['STATE'], data['DOMAIN'], margins = False) \n",
    "g, p, dof, expctd = chi2_contingency(data_crosstab, correction=False)\n",
    "g, p, dof, expctd"
   ]
  },
  {
   "cell_type": "markdown",
   "metadata": {},
   "source": [
    "As you would see the **p-value** is 0 in this case also the p-value is smaller than 0.05 hence we reject the null hypothesis. Hence we can say that the variables are correlated to each other and drop one of the variables \n"
   ]
  },
  {
   "cell_type": "code",
   "execution_count": 77,
   "metadata": {},
   "outputs": [],
   "source": [
    "data = data.drop(['STATE'], axis=1)"
   ]
  },
  {
   "cell_type": "markdown",
   "metadata": {},
   "source": [
    "## Transforming numerical data"
   ]
  },
  {
   "cell_type": "code",
   "execution_count": 78,
   "metadata": {},
   "outputs": [
    {
     "ename": "NameError",
     "evalue": "name 'data_corr' is not defined",
     "output_type": "error",
     "traceback": [
      "\u001b[1;31m---------------------------------------------------------------------------\u001b[0m",
      "\u001b[1;31mNameError\u001b[0m                                 Traceback (most recent call last)",
      "\u001b[1;32m<ipython-input-78-f514b5ed8aea>\u001b[0m in \u001b[0;36m<module>\u001b[1;34m\u001b[0m\n\u001b[1;32m----> 1\u001b[1;33m \u001b[0mdata_corr\u001b[0m\u001b[1;33m.\u001b[0m\u001b[0mhead\u001b[0m\u001b[1;33m(\u001b[0m\u001b[1;33m)\u001b[0m\u001b[1;33m\u001b[0m\u001b[1;33m\u001b[0m\u001b[0m\n\u001b[0m",
      "\u001b[1;31mNameError\u001b[0m: name 'data_corr' is not defined"
     ]
    }
   ],
   "source": [
    "data_corr.head()"
   ]
  },
  {
   "cell_type": "code",
   "execution_count": null,
   "metadata": {
    "scrolled": true
   },
   "outputs": [],
   "source": [
    "data_corr.CARDPROM.hist()"
   ]
  },
  {
   "cell_type": "markdown",
   "metadata": {},
   "source": [
    "### We drop the target variable"
   ]
  },
  {
   "cell_type": "code",
   "execution_count": null,
   "metadata": {},
   "outputs": [],
   "source": [
    "numerical = data_corr.drop(['AVGGIFT'], axis=1)"
   ]
  },
  {
   "cell_type": "code",
   "execution_count": null,
   "metadata": {},
   "outputs": [],
   "source": [
    "X_num = numerical"
   ]
  },
  {
   "cell_type": "markdown",
   "metadata": {},
   "source": [
    "## Standardization"
   ]
  },
  {
   "cell_type": "code",
   "execution_count": null,
   "metadata": {
    "scrolled": true
   },
   "outputs": [],
   "source": [
    "X_num.describe()"
   ]
  },
  {
   "cell_type": "code",
   "execution_count": null,
   "metadata": {},
   "outputs": [],
   "source": [
    "# Standardization/Standard Scaler\n",
    "\n",
    "from sklearn.preprocessing import StandardScaler\n",
    "transformer = StandardScaler().fit(X_num)\n",
    "x_standardized = transformer.transform(X_num)\n",
    "x_standardized"
   ]
  },
  {
   "cell_type": "markdown",
   "metadata": {},
   "source": [
    "### Scaling"
   ]
  },
  {
   "cell_type": "code",
   "execution_count": null,
   "metadata": {},
   "outputs": [],
   "source": [
    "# Min max scaler\n",
    "\n",
    "from sklearn.preprocessing import MinMaxScaler\n",
    "transformer = MinMaxScaler().fit(X_num)\n",
    "x_min_max = transformer.transform(X_num)\n",
    "x_min_max"
   ]
  },
  {
   "cell_type": "markdown",
   "metadata": {},
   "source": [
    "### Normalization"
   ]
  },
  {
   "cell_type": "code",
   "execution_count": null,
   "metadata": {},
   "outputs": [],
   "source": [
    "# Normalization\n",
    "\n",
    "from sklearn.preprocessing import Normalizer\n",
    "transformer = Normalizer().fit(X_num)\n",
    "x_normalized = transformer.transform(X_num)\n",
    "x_normalized"
   ]
  },
  {
   "cell_type": "code",
   "execution_count": null,
   "metadata": {},
   "outputs": [],
   "source": []
  },
  {
   "cell_type": "code",
   "execution_count": null,
   "metadata": {},
   "outputs": [],
   "source": [
    "# np.linalg.norm(x_normalized[4,])"
   ]
  },
  {
   "cell_type": "code",
   "execution_count": null,
   "metadata": {},
   "outputs": [],
   "source": []
  },
  {
   "cell_type": "code",
   "execution_count": null,
   "metadata": {
    "scrolled": true
   },
   "outputs": [],
   "source": [
    "# Set up the matplotlib figure\n",
    "\n",
    "f, axes = plt.subplots(1, 4, figsize=(15, 5), sharex=False)\n",
    "sns.despine(left=True)\n",
    "\n",
    "col = 1\n",
    "sns.distplot(X_num.values[:,col], kde=True, color=\"b\", ax=axes[0])\n",
    "sns.distplot(x_standardized[:,col], kde=True, color=\"b\", ax=axes[1])\n",
    "sns.distplot(x_min_max[:,col], kde=True, color=\"b\", ax=axes[2])\n",
    "sns.distplot(x_normalized[:,col], kde=True, color=\"b\", ax=axes[3])\n",
    "\n",
    "axes[0].set_title(f'{X_num.columns[col]}')\n",
    "axes[1].set_title(f'{X_num.columns[col]} (Standardized)')\n",
    "axes[2].set_title(f'{X_num.columns[col]} (Min-Max)')\n",
    "axes[3].set_title(f'{X_num.columns[col]} (Normalized)')"
   ]
  },
  {
   "cell_type": "markdown",
   "metadata": {},
   "source": [
    "### Dealing with columns with too many values"
   ]
  },
  {
   "cell_type": "code",
   "execution_count": null,
   "metadata": {},
   "outputs": [],
   "source": [
    "vals_domain = pd.DataFrame(data['DOMAIN'].value_counts())\n",
    "vals_domain = vals_domain.reset_index()\n",
    "vals_domain.columns = ['domain', 'counts']"
   ]
  },
  {
   "cell_type": "code",
   "execution_count": null,
   "metadata": {
    "scrolled": true
   },
   "outputs": [],
   "source": [
    "vals_domain"
   ]
  },
  {
   "cell_type": "code",
   "execution_count": null,
   "metadata": {},
   "outputs": [],
   "source": [
    "group_vals_domain_df = vals_domain[vals_domain['counts']<5000]\n",
    "group_vals_domain = list(group_vals_domain_df['domain'])\n",
    "group_vals_domain"
   ]
  },
  {
   "cell_type": "code",
   "execution_count": null,
   "metadata": {},
   "outputs": [],
   "source": [
    "def clean_vals_domain(x):\n",
    "    if x in group_vals_domain:\n",
    "        return 'other'\n",
    "    else:\n",
    "        return x\n",
    "\n",
    "data['DOMAIN'] = list(map(clean_vals_domain, data['DOMAIN']))"
   ]
  },
  {
   "cell_type": "code",
   "execution_count": null,
   "metadata": {},
   "outputs": [],
   "source": [
    "data['DOMAIN'].value_counts()"
   ]
  },
  {
   "cell_type": "code",
   "execution_count": null,
   "metadata": {},
   "outputs": [],
   "source": [
    "from sklearn.preprocessing import OneHotEncoder\n",
    "encoder = OneHotEncoder(handle_unknown='error', drop='first').fit(data[['DOMAIN']])\n",
    "encoded = encoder.transform(data[['DOMAIN']]).toarray()\n",
    "encoded"
   ]
  },
  {
   "cell_type": "markdown",
   "metadata": {},
   "source": [
    "## Putting all together"
   ]
  },
  {
   "cell_type": "code",
   "execution_count": null,
   "metadata": {},
   "outputs": [],
   "source": [
    "encoded_df = pd.DataFrame(encoded)\n",
    "scaled_df = pd.DataFrame(x_standardized)\n",
    "X = pd.concat([scaled_df, encoded_df], axis=1)\n",
    "y = data_corr['AVGGIFT']"
   ]
  },
  {
   "cell_type": "code",
   "execution_count": null,
   "metadata": {},
   "outputs": [],
   "source": [
    "from sklearn.model_selection import train_test_split\n",
    "X_train, X_test, y_train, y_test = train_test_split(X, y, test_size=0.4, random_state=100)"
   ]
  },
  {
   "cell_type": "code",
   "execution_count": null,
   "metadata": {},
   "outputs": [],
   "source": [
    "from sklearn.linear_model import LinearRegression\n",
    "from sklearn import metrics"
   ]
  },
  {
   "cell_type": "code",
   "execution_count": null,
   "metadata": {},
   "outputs": [],
   "source": [
    "model = LinearRegression()  \n",
    "model.fit(X_train, y_train)\n",
    "y_pred = model.predict(X_test)"
   ]
  },
  {
   "cell_type": "code",
   "execution_count": null,
   "metadata": {},
   "outputs": [],
   "source": [
    "y_pred"
   ]
  },
  {
   "cell_type": "code",
   "execution_count": null,
   "metadata": {},
   "outputs": [],
   "source": [
    "# plt.scatter(y_test, y_pred,  color='blue')\n",
    "\n",
    "# plt.show()"
   ]
  },
  {
   "cell_type": "code",
   "execution_count": null,
   "metadata": {},
   "outputs": [],
   "source": [
    "print('Mean Absolute Error:', metrics.mean_absolute_error(y_test, y_pred))  \n",
    "print('Mean Squared Error:', metrics.mean_squared_error(y_test, y_pred))  \n",
    "print('Root Mean Squared Error:', np.sqrt(metrics.mean_squared_error(y_test, y_pred)))\n",
    "print('R2:', metrics.r2_score(y_test, y_pred))"
   ]
  },
  {
   "cell_type": "code",
   "execution_count": null,
   "metadata": {},
   "outputs": [],
   "source": []
  },
  {
   "cell_type": "markdown",
   "metadata": {},
   "source": [
    "### KNN"
   ]
  },
  {
   "cell_type": "code",
   "execution_count": null,
   "metadata": {},
   "outputs": [],
   "source": [
    "from sklearn.neighbors import KNeighborsRegressor\n",
    "model = KNeighborsRegressor(n_neighbors=10)\n",
    "model.fit(X_train, y_train)\n",
    "\n",
    "predictions = model.predict(X_test)\n",
    "score = model.score(X_test, y_test)\n",
    "\n",
    "from sklearn import linear_model\n",
    "from sklearn.metrics import r2_score\n",
    "lm = linear_model.LinearRegression()\n",
    "model = lm.fit(X_train,y_train)\n",
    "# predictions  = lm.predict(X_test)\n",
    "r2_score(y_test, predictions)\n"
   ]
  },
  {
   "cell_type": "markdown",
   "metadata": {},
   "source": [
    "## Bias over fitting"
   ]
  },
  {
   "cell_type": "code",
   "execution_count": null,
   "metadata": {
    "scrolled": true
   },
   "outputs": [],
   "source": [
    "from sklearn.neighbors import KNeighborsRegressor\n",
    "scores = []\n",
    "for i in range(2,10):\n",
    "    model = KNeighborsRegressor(n_neighbors=i)\n",
    "    model.fit(X_train, y_train)\n",
    "    scores.append(model.score(X_test, y_test))\n",
    "\n",
    "\n",
    "plt.figure(figsize=(10,6))\n",
    "plt.plot(range(2,10),scores,color = 'blue',linestyle='dashed', \n",
    "         marker='o',markerfacecolor='red', markersize=10)\n",
    "plt.title('accuracy scores vs. K Value')\n",
    "plt.xlabel('K')\n",
    "plt.ylabel('Accuracy')\n"
   ]
  },
  {
   "cell_type": "code",
   "execution_count": null,
   "metadata": {},
   "outputs": [],
   "source": []
  }
 ],
 "metadata": {
  "kernelspec": {
   "display_name": "Python 3",
   "language": "python",
   "name": "python3"
  },
  "language_info": {
   "codemirror_mode": {
    "name": "ipython",
    "version": 3
   },
   "file_extension": ".py",
   "mimetype": "text/x-python",
   "name": "python",
   "nbconvert_exporter": "python",
   "pygments_lexer": "ipython3",
   "version": "3.8.5"
  }
 },
 "nbformat": 4,
 "nbformat_minor": 2
}
