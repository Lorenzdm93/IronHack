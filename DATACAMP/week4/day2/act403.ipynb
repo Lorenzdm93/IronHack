{
 "cells": [
  {
   "cell_type": "code",
   "execution_count": 2,
   "metadata": {},
   "outputs": [
    {
     "data": {
      "text/plain": [
       "['800 - 237 - 6639',\n",
       " '888- 247-2262',\n",
       " '888-247-2262',\n",
       " '800-567-6567',\n",
       " '800-361-2965',\n",
       " '800-661-0407',\n",
       " '888-545-6794']"
      ]
     },
     "execution_count": 2,
     "metadata": {},
     "output_type": "execute_result"
    }
   ],
   "source": [
    "import re\n",
    "text = \"\"\"\n",
    "Aeromexico 800 - 237 - 6639\n",
    "Air Canada 888- 247-2262\n",
    "Air Canada Rouge 888-247-2262\n",
    "Air Creebec 800-567-6567\n",
    "Air Inuit 800-361-2965\n",
    "Air North 800-661-0407\n",
    "Air Tindi 888-545-6794\"\"\"\n",
    "pattern = '\\d+ ?- ?\\d+ ?- ?\\d+'\n",
    "re.findall(pattern, text)"
   ]
  },
  {
   "cell_type": "code",
   "execution_count": 21,
   "metadata": {},
   "outputs": [
    {
     "name": "stdout",
     "output_type": "stream",
     "text": [
      "['KerraPower', 'Bill Gates', 'China', 'Trump']\n"
     ]
    }
   ],
   "source": [
    "text = '''TKerraPower, A nuclear-energy company founded by Bill Gates,\n",
    "        is unlikely to follow through on building a demonstration reactor in China,\n",
    "        due largely to the Trump administration�s crackdown on the country'''\n",
    "\n",
    "pattern1 = '[A-Z][a-z]+ ?[A-Z][a-z]+'\n",
    "pattern2 = '[A-Z][a-z]+'\n",
    "print(re.findall(pattern1+'|'+pattern2, text))\n",
    "\n",
    "# results  ['KerraPower', 'Bill Gates', 'China', 'Trump']"
   ]
  },
  {
   "cell_type": "code",
   "execution_count": null,
   "metadata": {},
   "outputs": [],
   "source": []
  }
 ],
 "metadata": {
  "kernelspec": {
   "display_name": "Python 3",
   "language": "python",
   "name": "python3"
  },
  "language_info": {
   "codemirror_mode": {
    "name": "ipython",
    "version": 3
   },
   "file_extension": ".py",
   "mimetype": "text/x-python",
   "name": "python",
   "nbconvert_exporter": "python",
   "pygments_lexer": "ipython3",
   "version": "3.8.5"
  }
 },
 "nbformat": 4,
 "nbformat_minor": 4
}
