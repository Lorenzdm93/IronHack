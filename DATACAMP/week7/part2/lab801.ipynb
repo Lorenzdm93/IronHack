{
 "cells": [
  {
   "cell_type": "code",
   "execution_count": 64,
   "metadata": {},
   "outputs": [],
   "source": [
    "from bs4 import BeautifulSoup\n",
    "import requests\n",
    "import pandas as pd\n",
    "from tqdm.notebook import tqdm"
   ]
  },
  {
   "cell_type": "code",
   "execution_count": 65,
   "metadata": {},
   "outputs": [],
   "source": [
    "url = \"https://www.billboard.com/charts/hot-100\""
   ]
  },
  {
   "cell_type": "code",
   "execution_count": 66,
   "metadata": {},
   "outputs": [],
   "source": [
    "response = requests.get(url)"
   ]
  },
  {
   "cell_type": "code",
   "execution_count": 67,
   "metadata": {},
   "outputs": [
    {
     "data": {
      "text/plain": [
       "200"
      ]
     },
     "execution_count": 67,
     "metadata": {},
     "output_type": "execute_result"
    }
   ],
   "source": [
    "response.status_code"
   ]
  },
  {
   "cell_type": "code",
   "execution_count": 68,
   "metadata": {},
   "outputs": [],
   "source": [
    "soup = BeautifulSoup(response.content, \"html.parser\")"
   ]
  },
  {
   "cell_type": "code",
   "execution_count": 69,
   "metadata": {},
   "outputs": [
    {
     "name": "stderr",
     "output_type": "stream",
     "text": [
      "IOPub data rate exceeded.\n",
      "The notebook server will temporarily stop sending output\n",
      "to the client in order to avoid crashing it.\n",
      "To change this limit, set the config variable\n",
      "`--NotebookApp.iopub_data_rate_limit`.\n",
      "\n",
      "Current values:\n",
      "NotebookApp.iopub_data_rate_limit=1000000.0 (bytes/sec)\n",
      "NotebookApp.rate_limit_window=3.0 (secs)\n",
      "\n"
     ]
    }
   ],
   "source": [
    "print(soup.prettify())"
   ]
  },
  {
   "cell_type": "code",
   "execution_count": 70,
   "metadata": {},
   "outputs": [],
   "source": [
    "# soup.select(\"li span.chart-element__information__song\")[0].get_text()\n",
    "# soup.select(\"li span.chart-element__information__artist\")[0].get_text()\n",
    "\n",
    "# s = BeautifulSoup(response.content, \"html.parser\")\n",
    "# artists = []\n",
    "# for i in range(len(s.select(\"li span.chart-element__information__artist\"))):\n",
    "#     artists.append(s.select(\"li span.chart-element__information__artist\")[i].get_text())\n",
    "    \n",
    "# songs = []\n",
    "# for i in range(len(s.select(\"li span.chart-element__information__song\"))):\n",
    "#     songs.append(s.select(\"li span.chart-element__information__song\")[i].get_text())"
   ]
  },
  {
   "cell_type": "code",
   "execution_count": 71,
   "metadata": {
    "scrolled": true
   },
   "outputs": [
    {
     "data": {
      "application/vnd.jupyter.widget-view+json": {
       "model_id": "92a1bab3dbfc4dc489e17efd72050777",
       "version_major": 2,
       "version_minor": 0
      },
      "text/plain": [
       "HBox(children=(HTML(value=''), FloatProgress(value=0.0), HTML(value='')))"
      ]
     },
     "metadata": {},
     "output_type": "display_data"
    },
    {
     "name": "stdout",
     "output_type": "stream",
     "text": [
      "\n"
     ]
    }
   ],
   "source": [
    "songs=[]\n",
    "for i in tqdm(soup.select('li span.chart-element__information__song')):\n",
    "    songs.append(i.get_text())"
   ]
  },
  {
   "cell_type": "code",
   "execution_count": 72,
   "metadata": {
    "scrolled": true
   },
   "outputs": [
    {
     "data": {
      "application/vnd.jupyter.widget-view+json": {
       "model_id": "8fdb31c5ccf84beeb074f850ca830c40",
       "version_major": 2,
       "version_minor": 0
      },
      "text/plain": [
       "HBox(children=(HTML(value=''), FloatProgress(value=0.0), HTML(value='')))"
      ]
     },
     "metadata": {},
     "output_type": "display_data"
    },
    {
     "name": "stdout",
     "output_type": "stream",
     "text": [
      "\n"
     ]
    }
   ],
   "source": [
    "artists=[]\n",
    "for i in tqdm(soup.select('li span.chart-element__information__artist')):\n",
    "    artists.append(i.get_text())"
   ]
  },
  {
   "cell_type": "code",
   "execution_count": 73,
   "metadata": {},
   "outputs": [],
   "source": [
    "df = pd.DataFrame({'songs': songs, 'artists': artists})"
   ]
  },
  {
   "cell_type": "code",
   "execution_count": 74,
   "metadata": {},
   "outputs": [
    {
     "data": {
      "text/html": [
       "<div>\n",
       "<style scoped>\n",
       "    .dataframe tbody tr th:only-of-type {\n",
       "        vertical-align: middle;\n",
       "    }\n",
       "\n",
       "    .dataframe tbody tr th {\n",
       "        vertical-align: top;\n",
       "    }\n",
       "\n",
       "    .dataframe thead th {\n",
       "        text-align: right;\n",
       "    }\n",
       "</style>\n",
       "<table border=\"1\" class=\"dataframe\">\n",
       "  <thead>\n",
       "    <tr style=\"text-align: right;\">\n",
       "      <th></th>\n",
       "      <th>songs</th>\n",
       "      <th>artists</th>\n",
       "    </tr>\n",
       "  </thead>\n",
       "  <tbody>\n",
       "    <tr>\n",
       "      <th>0</th>\n",
       "      <td>Drivers License</td>\n",
       "      <td>Olivia Rodrigo</td>\n",
       "    </tr>\n",
       "    <tr>\n",
       "      <th>1</th>\n",
       "      <td>Up</td>\n",
       "      <td>Cardi B</td>\n",
       "    </tr>\n",
       "    <tr>\n",
       "      <th>2</th>\n",
       "      <td>Blinding Lights</td>\n",
       "      <td>The Weeknd</td>\n",
       "    </tr>\n",
       "    <tr>\n",
       "      <th>3</th>\n",
       "      <td>Save Your Tears</td>\n",
       "      <td>The Weeknd</td>\n",
       "    </tr>\n",
       "    <tr>\n",
       "      <th>4</th>\n",
       "      <td>Mood</td>\n",
       "      <td>24kGoldn Featuring iann dior</td>\n",
       "    </tr>\n",
       "    <tr>\n",
       "      <th>...</th>\n",
       "      <td>...</td>\n",
       "      <td>...</td>\n",
       "    </tr>\n",
       "    <tr>\n",
       "      <th>95</th>\n",
       "      <td>Almost Maybes</td>\n",
       "      <td>Jordan Davis</td>\n",
       "    </tr>\n",
       "    <tr>\n",
       "      <th>96</th>\n",
       "      <td>Masterpiece</td>\n",
       "      <td>DaBaby</td>\n",
       "    </tr>\n",
       "    <tr>\n",
       "      <th>97</th>\n",
       "      <td>Prisoner</td>\n",
       "      <td>Miley Cyrus Featuring Dua Lipa</td>\n",
       "    </tr>\n",
       "    <tr>\n",
       "      <th>98</th>\n",
       "      <td>Skin</td>\n",
       "      <td>Sabrina Carpenter</td>\n",
       "    </tr>\n",
       "    <tr>\n",
       "      <th>99</th>\n",
       "      <td>Quicksand</td>\n",
       "      <td>Morray</td>\n",
       "    </tr>\n",
       "  </tbody>\n",
       "</table>\n",
       "<p>100 rows × 2 columns</p>\n",
       "</div>"
      ],
      "text/plain": [
       "              songs                         artists\n",
       "0   Drivers License                  Olivia Rodrigo\n",
       "1                Up                         Cardi B\n",
       "2   Blinding Lights                      The Weeknd\n",
       "3   Save Your Tears                      The Weeknd\n",
       "4              Mood    24kGoldn Featuring iann dior\n",
       "..              ...                             ...\n",
       "95    Almost Maybes                    Jordan Davis\n",
       "96      Masterpiece                          DaBaby\n",
       "97         Prisoner  Miley Cyrus Featuring Dua Lipa\n",
       "98             Skin               Sabrina Carpenter\n",
       "99        Quicksand                          Morray\n",
       "\n",
       "[100 rows x 2 columns]"
      ]
     },
     "execution_count": 74,
     "metadata": {},
     "output_type": "execute_result"
    }
   ],
   "source": [
    "df"
   ]
  },
  {
   "cell_type": "markdown",
   "metadata": {},
   "source": [
    "## Next Lab"
   ]
  },
  {
   "cell_type": "markdown",
   "metadata": {},
   "source": [
    "Scraping all songs from glee seasons"
   ]
  },
  {
   "cell_type": "code",
   "execution_count": 75,
   "metadata": {},
   "outputs": [],
   "source": [
    "iterations = range(1,7,1)"
   ]
  },
  {
   "cell_type": "code",
   "execution_count": 76,
   "metadata": {},
   "outputs": [
    {
     "data": {
      "text/plain": [
       "6"
      ]
     },
     "execution_count": 76,
     "metadata": {},
     "output_type": "execute_result"
    }
   ],
   "source": [
    "glee=[]\n",
    "\n",
    "for number in iterations:\n",
    "    number = str(number)\n",
    "    url = f\"https://en.wikipedia.org/wiki/List_of_songs_in_Glee_(season_{number})\"\n",
    "    glee.append(url)\n",
    "    \n",
    "len(glee)"
   ]
  },
  {
   "cell_type": "code",
   "execution_count": 77,
   "metadata": {},
   "outputs": [
    {
     "data": {
      "text/plain": [
       "'https://en.wikipedia.org/wiki/List_of_songs_in_Glee_(season_1)'"
      ]
     },
     "execution_count": 77,
     "metadata": {},
     "output_type": "execute_result"
    }
   ],
   "source": [
    "glee[0]"
   ]
  },
  {
   "cell_type": "code",
   "execution_count": 78,
   "metadata": {},
   "outputs": [],
   "source": [
    "from bs4 import BeautifulSoup\n",
    "import requests\n"
   ]
  },
  {
   "cell_type": "code",
   "execution_count": 79,
   "metadata": {},
   "outputs": [],
   "source": [
    "response = requests.get(glee[0])"
   ]
  },
  {
   "cell_type": "code",
   "execution_count": 80,
   "metadata": {},
   "outputs": [],
   "source": [
    "soup = BeautifulSoup(response.content, \"html.parser\")"
   ]
  },
  {
   "cell_type": "code",
   "execution_count": 81,
   "metadata": {},
   "outputs": [],
   "source": [
    "titles =[]\n",
    "tsoup= soup.select('.wikitable > tbody > tr > th > a')\n",
    "\n",
    "for i in range(len(tsoup)):\n",
    "    titles.append(tsoup[i].get_text())"
   ]
  },
  {
   "cell_type": "code",
   "execution_count": 82,
   "metadata": {},
   "outputs": [],
   "source": [
    "artists =[]\n",
    "asoup = soup.select('.wikitable > tbody > tr > td:nth-child(3)')\n",
    "\n",
    "for i in range(len(asoup)):\n",
    "    artists.append(asoup[i].get_text())"
   ]
  },
  {
   "cell_type": "code",
   "execution_count": 83,
   "metadata": {},
   "outputs": [
    {
     "name": "stdout",
     "output_type": "stream",
     "text": [
      "132 132\n"
     ]
    }
   ],
   "source": [
    "print(len(titles), len(artists))"
   ]
  },
  {
   "cell_type": "code",
   "execution_count": 84,
   "metadata": {},
   "outputs": [
    {
     "name": "stdout",
     "output_type": "stream",
     "text": [
      "Where Is Love? / Hank Saunders and Sandy Ryerson\n",
      "Respect / Mercedes Jones\n",
      "Mister Cellophane / Kurt Hummel\n",
      "I Kissed a Girl / Tina Cohen-Chang\n",
      "On My Own / Rachel Berry\n",
      "Sit Down, You're Rockin' the Boat / Artie Abrams with New Directions\n",
      "Can't Fight This Feeling / Finn Hudson\n",
      "Lovin', Touchin', Squeezin' / Young Finn Hudson and Darren\n",
      "You're the One That I Want / Rachel Berry and Finn Hudson with New Directions\n",
      "Rehab / Vocal Adrenaline\n",
      "Leaving on a Jet Plane / Will Schuester\n",
      "That's the Way (I Like It) / McKinley High Glee Club – 1993\n",
      "Don't Stop Believin' / McKinley High Glee Club – 1993\n",
      "Le Freak / Rachel Berry and Finn Hudson with New Directions\n",
      "Gold Digger / New Directions\n",
      "All by Myself / Will Schuester, Mercedes Jones and Artie Abrams with New Directions\n",
      "Push It / Emma Pillsbury\n",
      "I Say a Little Prayer / New Directions\n",
      "Take a Bow / Quinn Fabray with Santana Lopez and Brittany Pierce\n",
      "For He's a Jolly Good Fellow / Rachel Berry with Mercedes Jones and Tina Cohen-Chang\n",
      "This Is How We Do It / Acafellas\n",
      "Poison / Acafellas\n",
      "Mercy / Acafellas\n",
      "La Camisa Negra / Vocal Adrenaline\n",
      "Bust Your Windows / Noah Puckerman (instrumental version only)\n",
      "I Wanna Sex You Up / Mercedes Jones\n",
      "Single Ladies (Put a Ring on It) / Acafellas\n",
      "Taking Chances / Kurt Hummel with Tina Cohen-Chang and Brittany Pierce;McKinley High football team\n",
      "Tonight / Rachel Berry\n",
      "Don't Stop Believin' / Tina Cohen-Chang\n",
      "Maybe This Time / Quinn Fabray and Finn Hudson with New Directions\n",
      "Cabaret / April Rhodes and Rachel Berry\n",
      "Alone / Rachel Berry\n",
      "Last Name / April Rhodes and Will Schuester\n",
      "Somebody to Love / April Rhodes and New Directions\n",
      "It's My Life / New Directions\n",
      "Confessions Part II / New Directions males\n",
      "Halo / New Directions females\n",
      "Walking on Sunshine / Mercedes Jones, Tina Cohen-Changand New Directions: Sue's Kids\n",
      "Hate on Me / New Directions\n",
      "Ride wit Me / Rachel Berry and Finn Hudson with New Directions\n",
      "No Air / Quinn Fabray\n",
      "You Keep Me Hangin' On / New Directions\n",
      "Keep Holding On / Will Schuester and New Directions\n",
      "Bust a Move / Will Schuester\n",
      "Thong Song / Rachel Berry\n",
      "What a Girl Wants / Noah Puckerman with New Directions\n",
      "Sweet Caroline / Sue Sylvester and Will Schuester\n",
      "Sing, Sing, Sing (With a Swing) / Emma Pillsbury\n",
      "I Could Have Danced All Night / Artie Abrams\n",
      "Dancing with Myself / Kurt Hummel and Rachel Berry\n",
      "Defying Gravity / New Directions\n",
      "Proud Mary / Rachel Berry and Will Schuester\n",
      "Endless Love / Finn Hudson\n",
      "I'll Stand by You / Will Schuester\n",
      "Don't Stand So Close to Me / Rachel Berry\n",
      "Young Girl / Finn Hudson\n",
      "Crush / New Directions\n",
      "Lean on Me / Jane Addams Girls Choir\n",
      "Bootylicious / Mercedes Jones\n",
      "Don't Make Me Over / Rachel Berry and Finn Hudson\n",
      "You're the One That I Want / Quinn Fabray\n",
      "Papa Don't Preach / New Directions\n",
      "Crazy in Love / Haverbrook Deaf Choir and New Directions\n",
      "Hair / Tina Cohen-Chang and New Directions\n",
      "Imagine / Rachel Berry and Finn Hudson\n",
      "True Colors / Rachel Berry\n",
      "Smile / New Directions\n",
      "When You're Smiling / New Directions\n",
      "Jump / Mercedes Jones\n",
      "Smile / Jane Addams Girls Choir\n",
      "And I Am Telling You I'm Not Going / Jane Addams Girls Choir\n",
      "And I Am Telling You I'm Not Going / Haverbrook Deaf Choir\n",
      "Proud Mary / Rachel Berry\n",
      "Don't Stop Believin' / New Directions\n",
      "Don't Rain on My Parade / New Directions\n",
      "You Can't Always Get What You Want / Finn Hudson\n",
      "My Life Would Suck Without You / Rachel Berry and New Directions\n",
      "Hello, I Love You / Rachel Berry and Jesse St. James\n",
      "Gives You Hell / Will Schuester\n",
      "Hello / Vocal Adrenaline\n",
      "Hello Again / New Directions\n",
      "Highway to Hell / McKinley High Cheerios\n",
      "Hello, Goodbye / New Directions females\n",
      "Ray of Light / Rachel Berry and Finn Hudson\n",
      "Express Yourself / Sue Sylvester\n",
      "Open Your Heart / Finn Hudson and Santana Lopez;Will Schuester and Emma Pillsbury;Rachel Berry and Jesse St. James\n",
      "Borderline / Kurt Hummel and Mercedes Jones\n",
      "Vogue / Will Schuester and New Directions males\n",
      "Like a Virgin / New Directions\n",
      "4 Minutes / April Rhodes and Will Schuester\n",
      "What It Feels Like for a Girl / Kurt Hummel with Finn Hudson\n",
      "Like a Prayer / April Rhodes and Will Schuester\n",
      "Fire / Mercedes Jones and New Directions\n",
      "One Less Bell to Answer / April Rhodes and New Directions\n",
      "Beautiful / Will Schuester and New Directions\n",
      "Home / Artie Abrams, Kurt Hummel, Mercedes Jones, Tina Cohen-Chang and Brittany Pierce\n",
      "Ice Ice Baby / Sue Sylvester and Olivia Newton-John\n",
      "U Can't Touch This / Rachel Berry, Noah Puckerman, Jesse St. James and Finn Hudson with Santana Lopez and Brittany Pierce\n",
      "Physical / Rachel Berry, Finn Hudson,Jesse St. James and Noah Puckerman\n",
      "Run Joey Run / Rachel Berry\n",
      "Total Eclipse of the Heart / Finn Hudson\n",
      "Jessie's Girl / Noah Puckerman and Mercedes Jones\n",
      "Pink Houses / Kurt Hummel\n",
      "Rose's Turn / Mercedes Jones and Santana Lopez\n",
      "One / Kurt Hummel\n",
      "Daydream Believer / Rachel Berry, Sean Fretthold, Finn Hudson and New Directions\n",
      "Piano Man / Bryan Ryan\n",
      "Big Spender / Will Schuester and Bryan Ryan\n",
      "Dream On / Auditioning woman\n",
      "I Dreamed a Dream / Will Schuester and Bryan Ryan\n",
      "Dream a Little Dream of Me / Artie Abrams\n",
      "Funny Girl / Rachel Berry and Shelby Corcoran\n",
      "Bad Romance / Artie Abrams and New Directions\n",
      "Shout It Out Loud / Shelby Corcoran\n",
      "Beth / New Directions females with Kurt Hummel\n",
      "Poker Face / New Directions males except Kurt Hummel\n",
      "Another One Bites the Dust / New Directions males except Kurt Hummel\n",
      "Tell Me Something Good / Rachel Berry and Shelby Corcoran\n",
      "Loser / Vocal Adrenaline\n",
      "It's a Man's Man's Man's World / Will Schuester\n",
      "Good Vibrations / Noah Puckerman, Finn Hudson, Sandy Ryerson, Howard Bamboo and Terri Schuester\n",
      "Give Up the Funk / Quinn Fabray\n",
      "You Raise Me Up / Noah Puckerman, Finn Hudson and Mercedes Jones\n",
      "Magic / New Directions\n",
      "Faithfully / Aural Intensity\n",
      "Any Way You Want It / Rachel Berry, Finn Hudson and New Directions\n",
      "Lovin', Touchin', Squeezin' / New Directions\n",
      "Don't Stop Believin' / New Directions\n",
      "Bohemian Rhapsody / Vocal Adrenaline\n",
      "To Sir, with Love / New Directions\n",
      "Over the Rainbow / Will Schuester and Noah Puckerman\n"
     ]
    }
   ],
   "source": [
    "for titles, artists in zip(titles, artists):\n",
    "    print(titles, '/', artists)"
   ]
  },
  {
   "cell_type": "markdown",
   "metadata": {},
   "source": [
    "### now iterate through the various urls to get all the songs from all 6 seasons"
   ]
  },
  {
   "cell_type": "code",
   "execution_count": 85,
   "metadata": {},
   "outputs": [],
   "source": [
    "titles = []\n",
    "artists = []\n",
    "\n",
    "for gle in range(len(glee)):\n",
    "    \n",
    "    response = requests.get(glee[gle])\n",
    "    soup = BeautifulSoup(response.content, \"html.parser\")\n",
    "    \n",
    "    tsoup= soup.select('.wikitable > tbody > tr > th:nth-child(1)')\n",
    "    asoup = soup.select('.wikitable > tbody > tr > td:nth-child(3)')\n",
    "    \n",
    "    for i in range(len(tsoup)):\n",
    "        if (tsoup[i]['scope'] == 'row'):\n",
    "            titles.append(tsoup[i].get_text())\n",
    "        \n",
    "    for j in range(len(asoup)):\n",
    "        artists.append(asoup[j].get_text())\n",
    "        "
   ]
  },
  {
   "cell_type": "code",
   "execution_count": 86,
   "metadata": {},
   "outputs": [
    {
     "name": "stdout",
     "output_type": "stream",
     "text": [
      "743 743\n"
     ]
    }
   ],
   "source": [
    "print(len(titles),len(artists))"
   ]
  },
  {
   "cell_type": "code",
   "execution_count": 87,
   "metadata": {},
   "outputs": [],
   "source": [
    "# for i in range(len(tsoup)):\n",
    "#         if (tsoup[i]['scope'] == 'row'):\n",
    "#             print(tsoup[i].get_text())"
   ]
  },
  {
   "cell_type": "code",
   "execution_count": 88,
   "metadata": {
    "scrolled": true
   },
   "outputs": [],
   "source": [
    "# for titles, artists in zip(titles, artists):\n",
    "#     print(titles, '/', artists)"
   ]
  },
  {
   "cell_type": "code",
   "execution_count": 89,
   "metadata": {},
   "outputs": [],
   "source": [
    "import pandas as pd"
   ]
  },
  {
   "cell_type": "code",
   "execution_count": 90,
   "metadata": {},
   "outputs": [],
   "source": [
    "data = pd.DataFrame({'title': titles, 'artist': artists})"
   ]
  },
  {
   "cell_type": "code",
   "execution_count": 93,
   "metadata": {},
   "outputs": [
    {
     "data": {
      "text/html": [
       "<div>\n",
       "<style scoped>\n",
       "    .dataframe tbody tr th:only-of-type {\n",
       "        vertical-align: middle;\n",
       "    }\n",
       "\n",
       "    .dataframe tbody tr th {\n",
       "        vertical-align: top;\n",
       "    }\n",
       "\n",
       "    .dataframe thead th {\n",
       "        text-align: right;\n",
       "    }\n",
       "</style>\n",
       "<table border=\"1\" class=\"dataframe\">\n",
       "  <thead>\n",
       "    <tr style=\"text-align: right;\">\n",
       "      <th></th>\n",
       "      <th>title</th>\n",
       "      <th>artist</th>\n",
       "    </tr>\n",
       "  </thead>\n",
       "  <tbody>\n",
       "    <tr>\n",
       "      <th>0</th>\n",
       "      <td>\"Where Is Love?\"\\n</td>\n",
       "      <td>Hank Saunders and Sandy Ryerson</td>\n",
       "    </tr>\n",
       "    <tr>\n",
       "      <th>1</th>\n",
       "      <td>\"Respect\"\\n</td>\n",
       "      <td>Mercedes Jones</td>\n",
       "    </tr>\n",
       "    <tr>\n",
       "      <th>2</th>\n",
       "      <td>\"Mister Cellophane\"\\n</td>\n",
       "      <td>Kurt Hummel</td>\n",
       "    </tr>\n",
       "    <tr>\n",
       "      <th>3</th>\n",
       "      <td>\"I Kissed a Girl\"\\n</td>\n",
       "      <td>Tina Cohen-Chang</td>\n",
       "    </tr>\n",
       "    <tr>\n",
       "      <th>4</th>\n",
       "      <td>\"On My Own\"\\n</td>\n",
       "      <td>Rachel Berry</td>\n",
       "    </tr>\n",
       "  </tbody>\n",
       "</table>\n",
       "</div>"
      ],
      "text/plain": [
       "                   title                           artist\n",
       "0     \"Where Is Love?\"\\n  Hank Saunders and Sandy Ryerson\n",
       "1            \"Respect\"\\n                   Mercedes Jones\n",
       "2  \"Mister Cellophane\"\\n                      Kurt Hummel\n",
       "3    \"I Kissed a Girl\"\\n                 Tina Cohen-Chang\n",
       "4          \"On My Own\"\\n                     Rachel Berry"
      ]
     },
     "execution_count": 93,
     "metadata": {},
     "output_type": "execute_result"
    }
   ],
   "source": [
    "data.head()"
   ]
  },
  {
   "cell_type": "code",
   "execution_count": 111,
   "metadata": {},
   "outputs": [],
   "source": [
    "def strip(x):\n",
    "    x=x.rstrip().strip('\\\"')\n",
    "    return x"
   ]
  },
  {
   "cell_type": "code",
   "execution_count": 114,
   "metadata": {},
   "outputs": [],
   "source": [
    "data['title']=data['title'].apply(strip)"
   ]
  },
  {
   "cell_type": "code",
   "execution_count": 115,
   "metadata": {},
   "outputs": [
    {
     "data": {
      "text/html": [
       "<div>\n",
       "<style scoped>\n",
       "    .dataframe tbody tr th:only-of-type {\n",
       "        vertical-align: middle;\n",
       "    }\n",
       "\n",
       "    .dataframe tbody tr th {\n",
       "        vertical-align: top;\n",
       "    }\n",
       "\n",
       "    .dataframe thead th {\n",
       "        text-align: right;\n",
       "    }\n",
       "</style>\n",
       "<table border=\"1\" class=\"dataframe\">\n",
       "  <thead>\n",
       "    <tr style=\"text-align: right;\">\n",
       "      <th></th>\n",
       "      <th>title</th>\n",
       "      <th>artist</th>\n",
       "    </tr>\n",
       "  </thead>\n",
       "  <tbody>\n",
       "    <tr>\n",
       "      <th>0</th>\n",
       "      <td>Where Is Love?</td>\n",
       "      <td>Hank Saunders and Sandy Ryerson</td>\n",
       "    </tr>\n",
       "    <tr>\n",
       "      <th>1</th>\n",
       "      <td>Respect</td>\n",
       "      <td>Mercedes Jones</td>\n",
       "    </tr>\n",
       "  </tbody>\n",
       "</table>\n",
       "</div>"
      ],
      "text/plain": [
       "            title                           artist\n",
       "0  Where Is Love?  Hank Saunders and Sandy Ryerson\n",
       "1         Respect                   Mercedes Jones"
      ]
     },
     "execution_count": 115,
     "metadata": {},
     "output_type": "execute_result"
    }
   ],
   "source": [
    "data.head(2)"
   ]
  },
  {
   "cell_type": "code",
   "execution_count": null,
   "metadata": {},
   "outputs": [],
   "source": []
  }
 ],
 "metadata": {
  "kernelspec": {
   "display_name": "Python 3",
   "language": "python",
   "name": "python3"
  },
  "language_info": {
   "codemirror_mode": {
    "name": "ipython",
    "version": 3
   },
   "file_extension": ".py",
   "mimetype": "text/x-python",
   "name": "python",
   "nbconvert_exporter": "python",
   "pygments_lexer": "ipython3",
   "version": "3.8.5"
  }
 },
 "nbformat": 4,
 "nbformat_minor": 4
}
